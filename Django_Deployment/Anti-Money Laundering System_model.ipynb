{
 "cells": [
  {
   "cell_type": "markdown",
   "id": "e1c02af5",
   "metadata": {},
   "source": [
    "# Anti-Money Laundering System"
   ]
  },
  {
   "cell_type": "markdown",
   "id": "d2bfd4ab",
   "metadata": {},
   "source": [
    "## Problem Statement"
   ]
  },
  {
   "cell_type": "markdown",
   "id": "72ab8ead",
   "metadata": {},
   "source": [
    "Money Laundering is a major challenge in the present highly digitalized economic ecosystem. The fraudulent behavior of the agents aims to profit by taking control of customers accounts and try to empty the funds by transferring to another account and then cashing out of the system. The main objective of this project is to built a machine learning model based on financial transaction data for detecting such fraudulent behavior."
   ]
  },
  {
   "cell_type": "markdown",
   "id": "1b221ff3",
   "metadata": {},
   "source": [
    "***CRISP-ML(Q)*** process model describes six phases:\n",
    "\n",
    "1. Business and Data Understanding\n",
    "2. Data Preparation\n",
    "3. Model Building\n",
    "4. Model Evaluation\n",
    "5. Deployment\n",
    "6. Monitoring and Maintenance"
   ]
  },
  {
   "cell_type": "markdown",
   "id": "975dfcda",
   "metadata": {},
   "source": [
    "**Objective(s):** Maximizing the detection of fraud transactions via different channels.\n",
    "\n",
    "**Constraints:** Minimizing false positives being generated for fraud transactions"
   ]
  },
  {
   "cell_type": "markdown",
   "id": "116e38a3",
   "metadata": {},
   "source": [
    "# Data Collection"
   ]
  },
  {
   "cell_type": "markdown",
   "id": "4fc2c539",
   "metadata": {},
   "source": [
    "**Data:** This is a synthetic dataset generated using the simulator called PaySim. PaySim uses aggregated data from the private dataset to generate a synthetic dataset that resembles the normal operation of transactions and injects malicious behaviour to later evaluate the performance of fraud detection methods.\n",
    "\n",
    "**Dataset:** \n",
    "* Our dataset has 6362620 observations about financial transactions.\n",
    "* And it has 11 variables associated to each transactions. \n",
    "\n",
    "**Variables Description:**\n",
    "* step - Maps a unit of time in the real world(1 step = 1 hour of time).\n",
    "\n",
    "* type - CASH-IN, CASH-OUT, DEBIT, PAYMENT and TRANSFER.\n",
    "\n",
    "* amount - Amount of the transaction in local currency.\n",
    "\n",
    "* nameOrig - Customer who started the transaction.\n",
    "\n",
    "* oldbalanceOrg - Initial balance before the transaction.\n",
    "\n",
    "* newbalanceOrig - New balance after the transaction.\n",
    "\n",
    "* nameDest - Customer who is the recipient of the transaction.\n",
    "\n",
    "* oldbalanceDest - Initial balance recipient before the transaction.\n",
    "\n",
    "* newbalanceDest - New balance recipient after the transaction.\n",
    "\n",
    "* isFraud - This is the transactions made by the fraudulent agents inside the simulation.\n",
    "\n",
    "* isFlaggedFraud - The business model aims to control massive transfers from one account to another and flags illegal attempts. An illegal attempt means to transfer more than 200.000 in a single transaction.\n",
    "\n",
    ">  Note that there is not information for customers that start with M (Merchants)."
   ]
  },
  {
   "cell_type": "markdown",
   "id": "1e310621",
   "metadata": {},
   "source": [
    "**Required Libraries**"
   ]
  },
  {
   "cell_type": "code",
   "execution_count": null,
   "id": "5372259b",
   "metadata": {},
   "outputs": [],
   "source": [
    "import pandas as pd\n",
    "import numpy as np\n",
    "import matplotlib.pyplot as plt\n",
    "import matplotlib.cm as cm\n",
    "import seaborn as sns\n",
    "import sweetviz\n",
    "import dtale\n",
    "from sklearn import metrics\n",
    "from sklearn_pandas import DataFrameMapper\n",
    "from sklearn.model_selection import train_test_split, learning_curve, RepeatedStratifiedKFold, cross_val_score, RandomizedSearchCV, GridSearchCV, StratifiedKFold\n",
    "from sklearn.tree import DecisionTreeClassifier\n",
    "from sklearn.impute import SimpleImputer\n",
    "from sklearn.compose import ColumnTransformer\n",
    "from sklearn import preprocessing\n",
    "from sklearn.preprocessing import LabelEncoder, MinMaxScaler\n",
    "from sklearn.pipeline import Pipeline\n",
    "from sklearn.ensemble import RandomForestClassifier\n",
    "from sklearn.linear_model import LogisticRegression\n",
    "from xgboost.sklearn import XGBClassifier\n",
    "from xgboost import plot_importance, to_graphviz\n",
    "import lightgbm as lgb\n",
    "from scipy.stats import boxcox, skew, uniform, randint"
   ]
  },
  {
   "cell_type": "markdown",
   "id": "3e75bcf2",
   "metadata": {},
   "source": [
    "**Importing the data**"
   ]
  },
  {
   "cell_type": "code",
   "execution_count": null,
   "id": "72a3c335",
   "metadata": {},
   "outputs": [],
   "source": [
    "transaction_details_dataset = pd.read_csv(\"transaction_details.csv\")"
   ]
  },
  {
   "cell_type": "code",
   "execution_count": null,
   "id": "ffb6b636",
   "metadata": {},
   "outputs": [],
   "source": [
    "transaction_details_dataset.isnull().values.any()"
   ]
  },
  {
   "cell_type": "code",
   "execution_count": null,
   "id": "0c8dd5e4",
   "metadata": {},
   "outputs": [],
   "source": [
    "print(\"Our dataset has {} observations and {} columns\".format(transaction_details_dataset.shape[0], transaction_details_dataset.shape[1]))"
   ]
  },
  {
   "cell_type": "code",
   "execution_count": null,
   "id": "26c1815c",
   "metadata": {},
   "outputs": [],
   "source": [
    "transaction_details_dataset.head()"
   ]
  },
  {
   "cell_type": "code",
   "execution_count": null,
   "id": "20e17298",
   "metadata": {},
   "outputs": [],
   "source": [
    "transaction_details_dataset.describe()"
   ]
  },
  {
   "cell_type": "code",
   "execution_count": null,
   "id": "bec84e47",
   "metadata": {},
   "outputs": [],
   "source": [
    "transaction_details_dataset.info()"
   ]
  },
  {
   "cell_type": "markdown",
   "id": "da7f8e86",
   "metadata": {},
   "source": [
    "## Exploratory Data Analysis (EDA) / Descriptive Statistics"
   ]
  },
  {
   "cell_type": "code",
   "execution_count": null,
   "id": "5bd85c73",
   "metadata": {},
   "outputs": [],
   "source": [
    "print(transaction_details_dataset.type.value_counts())"
   ]
  },
  {
   "cell_type": "code",
   "execution_count": null,
   "id": "53a982ca",
   "metadata": {},
   "outputs": [],
   "source": [
    "print('Types of fraud transactions: {}'.format(list(transaction_details_dataset.loc[transaction_details_dataset.isFraud == 1].type.drop_duplicates().values)))\n",
    "\n",
    "fraud_transfer = transaction_details_dataset.loc[(transaction_details_dataset.isFraud == 1) & (transaction_details_dataset.type == 'TRANSFER')]\n",
    "fraud_cash_out = transaction_details_dataset.loc[(transaction_details_dataset.isFraud == 1) & (transaction_details_dataset.type == 'CASH_OUT')]\n",
    "\n",
    "print('\\nNumber of fraud TRANSFER\\'s: {}'.format(len(fraud_transfer)))\n",
    "print('Number of fraud CASH_OUT\\'s: {}'.format(len(fraud_cash_out)))\n",
    "\n",
    "print('\\nPercentage of fraud TRANSFER\\'s: {} %'.format((len(fraud_transfer)/len(transaction_details_dataset)) * 100))\n",
    "print('Percentage of fraud CASH_OUT\\'s: {} %'.format((len(fraud_transfer)/len(transaction_details_dataset)) * 100))"
   ]
  },
  {
   "cell_type": "code",
   "execution_count": null,
   "id": "108344fa",
   "metadata": {},
   "outputs": [],
   "source": [
    "print('Types of transactions which are \\'isFlaggedFraud\\': {}'.format(list(transaction_details_dataset.loc[transaction_details_dataset.isFlaggedFraud == 1].type.drop_duplicates().values)))\n",
    "\n",
    "transfer = transaction_details_dataset.loc[(transaction_details_dataset.type == 'TRANSFER')]\n",
    "is_flagged_fraud = transaction_details_dataset.loc[(transaction_details_dataset.isFlaggedFraud == 1)]\n",
    "not_flagged_fraud = transaction_details_dataset.loc[(transaction_details_dataset.isFlaggedFraud == 0)]\n",
    "\n",
    "print('Minimum amount of transaction when \\'isFlaggedFraud\\' is set: {}'.format(is_flagged_fraud.amount.min()))\n",
    "print('Maximum amount of transaction in a TRANSFER when \\'isFlaggedFraud\\' is not set: {}'.format(transfer.loc[(transfer.isFlaggedFraud == 0)].amount.max()))"
   ]
  },
  {
   "cell_type": "code",
   "execution_count": null,
   "id": "3cb8e0a9",
   "metadata": {},
   "outputs": [],
   "source": [
    "print('Number of TRANSFER\\'s where isFlaggedFraud = 1 yet oldbalanceDest = 0, & newbalanceDest = 0: {}'.format(len(transaction_details_dataset.loc[(transaction_details_dataset.isFlaggedFraud == 1) & (transaction_details_dataset.newbalanceDest == 0) & (transaction_details_dataset.oldbalanceDest == 0)])))\n",
    "print('Number of TRANSFER\\'s where isFlaggedFraud = 0 yet oldbalanceDest = 0, & newbalanceDest = 0: {}'.format(len(transaction_details_dataset.loc[(transaction_details_dataset.isFlaggedFraud == 0) & (transaction_details_dataset.newbalanceDest == 0) & (transaction_details_dataset.oldbalanceDest == 0)])))"
   ]
  },
  {
   "cell_type": "code",
   "execution_count": null,
   "id": "75af7865",
   "metadata": {},
   "outputs": [],
   "source": [
    "print('Minimum value of newbalanceOrig when isFlaggedFraud = 0 where oldbalanceOrg = newbalanceOrig: {}'.format(transfer.loc[(transfer.isFlaggedFraud == 0) & (transfer.oldbalanceOrg == transfer.newbalanceOrig)].oldbalanceOrg.min()))\n",
    "print('Maximum value of newbalanceOrig when isFlaggedFraud = 0 where oldbalanceOrg = newbalanceOrig: {}'.format(transfer.loc[(transfer.isFlaggedFraud == 0) & (transfer.oldbalanceOrg == transfer.newbalanceOrig)].oldbalanceOrg.max()))\n",
    "print('Minimum value of oldbalanceOrg when isFlaggedFraud = 1: {}'.format(is_flagged_fraud.oldbalanceOrg.min()))\n",
    "print('Maximum value of oldbalanceOrg when isFlaggedFraud = 1: {}'.format(is_flagged_fraud.oldbalanceOrg.max()))"
   ]
  },
  {
   "cell_type": "code",
   "execution_count": null,
   "id": "60addd4f",
   "metadata": {},
   "outputs": [],
   "source": [
    "print('Any originator of transaction having more than 1 flagged fraud transaction? {}'.format(is_flagged_fraud.nameOrig.isin(pd.concat([not_flagged_fraud.nameOrig, not_flagged_fraud.nameDest])).any()))\n",
    "print('Any destination for transaction flagged as fraud? {}'.format(is_flagged_fraud.nameDest.isin(not_flagged_fraud.nameOrig).any()))\n",
    "print('Number of destination accounts flagged fraud were already destination accounts before? {}'.format(sum(is_flagged_fraud.nameDest.isin(not_flagged_fraud.nameDest))))"
   ]
  },
  {
   "cell_type": "code",
   "execution_count": null,
   "id": "9b296fb5",
   "metadata": {},
   "outputs": [],
   "source": [
    "print('Any merchants among originator account? {}'.format(transaction_details_dataset.nameOrig.str.contains('M').any()))\n",
    "print('Are there any transactions having merchants as destination accounts other than \\'PAYMENT\\' type? {}'.format((transaction_details_dataset.loc[transaction_details_dataset.nameDest.str.contains('M')].type != 'PAYMENT').any()))\n",
    "print('Any merchants among originator who accounts for \\'CASH_IN\\' transactions? {}'.format(transaction_details_dataset.loc[transaction_details_dataset.type == 'CASH_IN'].nameOrig.str.contains('M').any()))\n",
    "print('Any merchants among originator who accounts for \\'CASH_OUT\\' transactions? {}'.format(transaction_details_dataset.loc[transaction_details_dataset.type == 'CASH_OUT'].nameOrig.str.contains('M').any()))"
   ]
  },
  {
   "cell_type": "code",
   "execution_count": null,
   "id": "aa3b417c",
   "metadata": {},
   "outputs": [],
   "source": [
    "not_fraud = transaction_details_dataset.loc[transaction_details_dataset.isFraud == 0]\n",
    "print('Fraud TRANSFER\"s where destination accounts are originator of \"CASH_OUT\":\\n {}'.format(fraud_transfer.loc[fraud_transfer.nameDest.isin(not_fraud.loc[not_fraud.type == 'CASH_OUT'].nameOrig.drop_duplicates())]))"
   ]
  },
  {
   "cell_type": "code",
   "execution_count": null,
   "id": "7a2919d9",
   "metadata": {},
   "outputs": [],
   "source": [
    "print('Fraud TRANSFER to \\'C1714931087\\' occurs at step [65] whereas genuine \\'CASH_OUT\\' from this account occured at step = {}'.format(not_fraud.loc[(not_fraud.type == 'CASH_OUT') & (not_fraud.nameOrig == 'C1714931087')].step.values))\n",
    "print('Fraud TRANSFER to \\'C423543548\\' occurs at step [486] whereas genuine \\'CASH_OUT\\' from this account occured at step = {}'.format(not_fraud.loc[(not_fraud.type == 'CASH_OUT') & (not_fraud.nameOrig == 'C423543548')].step.values))\n",
    "print('Fraud TRANSFER to \\'C1023330867\\' occurs at step [738] whereas genuine \\'CASH_OUT\\' from this account occured at step = {}'.format(not_fraud.loc[(not_fraud.type == 'CASH_OUT') & (not_fraud.nameOrig == 'C1023330867')].step.values))"
   ]
  },
  {
   "cell_type": "code",
   "execution_count": null,
   "id": "29f28c13",
   "metadata": {},
   "outputs": [],
   "source": [
    "figure, ax = plt.subplots(1, 1, figsize = (8, 6))\n",
    "transaction_details_dataset.type.value_counts().plot(kind = 'bar', title = 'Transaction Type', color ='red')"
   ]
  },
  {
   "cell_type": "code",
   "execution_count": null,
   "id": "a4556df6",
   "metadata": {},
   "outputs": [],
   "source": [
    "figure, ax = plt.subplots(1, 1, figsize = (8, 6))\n",
    "ax = transaction_details_dataset.groupby(['type', 'isFraud']).size().plot(kind = 'bar')\n",
    "ax.set_title('Number of actual fraud transaction per transaction type')\n",
    "ax.set_xlabel('Type, isFraud')\n",
    "ax.set_ylabel('Number of transactions')\n",
    "\n",
    "for x in ax.patches:\n",
    "    ax.annotate(str(format(int(x.get_height()))), (x.get_x(), x.get_height() * 1.01))"
   ]
  },
  {
   "cell_type": "code",
   "execution_count": null,
   "id": "cbe29101",
   "metadata": {},
   "outputs": [],
   "source": [
    "figure, ax = plt.subplots(1, 1, figsize = (8, 6))\n",
    "ax = transaction_details_dataset.groupby(['type', 'isFlaggedFraud']).size().plot(kind = 'bar')\n",
    "ax.set_title('Number of actual fraud transaction per transaction type')\n",
    "ax.set_xlabel('Type, isFlaggedFraud')\n",
    "ax.set_ylabel('Number of transactions')\n",
    "\n",
    "for x in ax.patches:\n",
    "    ax.annotate(str(format(int(x.get_height()))), (x.get_x(), x.get_height() * 1.01))"
   ]
  },
  {
   "cell_type": "code",
   "execution_count": null,
   "id": "acfe05a3",
   "metadata": {},
   "outputs": [],
   "source": [
    "figure, axis = plt.subplots(2, 2, figsize = (8, 8))\n",
    "\n",
    "figure_1 = sns.boxplot(x = 'isFlaggedFraud', y = 'amount', data = transfer, ax = axis[0][0])\n",
    "axis[0][0].set_yscale('log')\n",
    "figure_2 = sns.boxplot(x = 'isFlaggedFraud', y = 'oldbalanceDest', data = transfer, ax = axis[0][1])\n",
    "axis[0][1].set(ylim=(0, 0.5e8))\n",
    "figure_3 = sns.boxplot(x = 'isFlaggedFraud', y = 'oldbalanceOrg', data = transfer, ax = axis[1][0])\n",
    "axis[1][0].set(ylim=(0, 3e7))\n",
    "figure_4 = sns.regplot(x = 'oldbalanceOrg', y = 'amount', data = transfer.loc[(transaction_details_dataset.isFlaggedFraud == 1)], ax = axis[1][1])\n",
    "plt.show()"
   ]
  },
  {
   "cell_type": "markdown",
   "id": "a2b095ab",
   "metadata": {},
   "source": [
    "## Data Preprocessing"
   ]
  },
  {
   "cell_type": "markdown",
   "id": "a8c654d0",
   "metadata": {},
   "source": [
    "***'TRANSFER' OR 'CASH_OUT' Transactions***"
   ]
  },
  {
   "cell_type": "code",
   "execution_count": null,
   "id": "ccc3de99",
   "metadata": {},
   "outputs": [],
   "source": [
    "transfer_or_cash_out = transaction_details_dataset.loc[(transaction_details_dataset.type == 'TRANSFER') | (transaction_details_dataset.type == 'CASH_OUT')]\n",
    "np.random.seed(5)\n",
    "print('We have a total of {} transactions that are either \\'TRANSFER\\' OR \\'CASH_OUT\\'.'.format(transfer_or_cash_out.shape[0]))"
   ]
  },
  {
   "cell_type": "markdown",
   "id": "c786b712",
   "metadata": {},
   "source": [
    "### Automated Library"
   ]
  },
  {
   "cell_type": "code",
   "execution_count": null,
   "id": "3863e6bb",
   "metadata": {
    "scrolled": true
   },
   "outputs": [],
   "source": [
    "automated_report = sweetviz.analyze(transfer_or_cash_out)\n",
    "automated_report.show_html('Report.html')"
   ]
  },
  {
   "cell_type": "code",
   "execution_count": null,
   "id": "682e370c",
   "metadata": {},
   "outputs": [],
   "source": [
    "dataset_visuals = dtale.show(transfer_or_cash_out)\n",
    "dataset_visuals.open_browser()"
   ]
  },
  {
   "cell_type": "markdown",
   "id": "e39219a4",
   "metadata": {},
   "source": [
    "**Cleaning Unwanted Columns**\n",
    "\n",
    "'nameDest', 'nameOrig', 'isFlaggedFraud': These columns are of no relevance for analytically domain of work, as it does not have any nominal data. Hence, we can ignore them."
   ]
  },
  {
   "cell_type": "code",
   "execution_count": null,
   "id": "f6c9f1a7",
   "metadata": {},
   "outputs": [],
   "source": [
    "transfer_or_cash_out = transfer_or_cash_out.drop(['nameDest', 'nameOrig', 'isFlaggedFraud'], axis = 1)"
   ]
  },
  {
   "cell_type": "code",
   "execution_count": null,
   "id": "5982fc33",
   "metadata": {
    "scrolled": true
   },
   "outputs": [],
   "source": [
    "fraud_transfer_or_cash_out = transfer_or_cash_out.loc[transfer_or_cash_out['isFraud'] == 1]\n",
    "not_fraud_transfer_or_cash_out = transfer_or_cash_out.loc[transfer_or_cash_out['isFraud'] == 0]\n",
    "\n",
    "print('Fraction of fraud transactions with \\'oldbalanceDest\\' = \\'newbalanceDest\\' after having a non-zero transaction: {}'.format(len(fraud_transfer_or_cash_out.loc[(fraud_transfer_or_cash_out.oldbalanceDest == 0) & (fraud_transfer_or_cash_out.newbalanceDest == 0) & (fraud_transfer_or_cash_out.amount)]) / len(fraud_transfer_or_cash_out)))"
   ]
  },
  {
   "cell_type": "markdown",
   "id": "0e38006d",
   "metadata": {},
   "source": [
    "***Computation:***\n",
    "1. Imputing null values using Mean imputation.\n",
    "2. Conversion of 'categorical data' to 'numerical data' using LabelEncoder.\n",
    "3. DataFrameMapper is used to map the given attribute."
   ]
  },
  {
   "cell_type": "code",
   "execution_count": null,
   "id": "3c751c49",
   "metadata": {},
   "outputs": [],
   "source": [
    "numerical_features = transfer_or_cash_out.select_dtypes(include = ['int32', 'int64', 'float32', 'float64']).columns\n",
    "numerical_features"
   ]
  },
  {
   "cell_type": "code",
   "execution_count": null,
   "id": "a14731b4",
   "metadata": {},
   "outputs": [],
   "source": [
    "categorical_features = transfer_or_cash_out.select_dtypes(include = ['object']).columns\n",
    "categorical_features"
   ]
  },
  {
   "cell_type": "code",
   "execution_count": null,
   "id": "f587860d",
   "metadata": {},
   "outputs": [],
   "source": [
    "numerical_pipeline = Pipeline([('impute', SimpleImputer(strategy = 'mean'))])\n",
    "categorical_pipeline = Pipeline([('label', DataFrameMapper([(categorical_features, LabelEncoder())]))])\n",
    "scale_pipeline = Pipeline([('scale', MinMaxScaler())])"
   ]
  },
  {
   "cell_type": "code",
   "execution_count": null,
   "id": "f9c58e84",
   "metadata": {},
   "outputs": [],
   "source": [
    "preprocess_pipeline = ColumnTransformer([('category', categorical_pipeline, categorical_features), \n",
    "                                         ('numerical', numerical_pipeline, numerical_features)],\n",
    "                                        remainder = 'passthrough')\n",
    "preprocess_fit = preprocess_pipeline.fit(transfer_or_cash_out)\n",
    "preprocess_fit"
   ]
  },
  {
   "cell_type": "code",
   "execution_count": null,
   "id": "d0408a59",
   "metadata": {},
   "outputs": [],
   "source": [
    "preprocess_transform = preprocess_fit.transform(transfer_or_cash_out)\n",
    "preprocess_transform"
   ]
  },
  {
   "cell_type": "code",
   "execution_count": null,
   "id": "19968c8d",
   "metadata": {
    "scrolled": true
   },
   "outputs": [],
   "source": [
    "preprocess_2 = pd.DataFrame(preprocess_transform, columns = [transfer_or_cash_out])\n",
    "preprocess_2"
   ]
  },
  {
   "cell_type": "markdown",
   "id": "2c626a18",
   "metadata": {},
   "source": [
    "## Data Visualization"
   ]
  },
  {
   "cell_type": "code",
   "execution_count": null,
   "id": "4813ffe7",
   "metadata": {},
   "outputs": [],
   "source": [
    "def correlation_plot(dataframe, labels):\n",
    "    figure, axis = plt.subplots(1, 1, figsize = (8, 8))\n",
    "    cmap = cm.get_cmap('inferno')\n",
    "    cax = axis.imshow(dataframe.corr(), cmap = cmap)\n",
    "    plt.title('Correlation HeatMap')\n",
    "    axis.set_xticklabels(labels, fontsize = 12, rotation = 60)\n",
    "    axis.set_yticklabels(labels, fontsize = 12)\n",
    "    figure.colorbar(cax)\n",
    "    plt.show()\n",
    "    \n",
    "correlation_plot_labels = preprocess_2.columns.tolist()\n",
    "\n",
    "for i in range(len(correlation_plot_labels)):\n",
    "    correlation_plot_labels[i] = correlation_plot_labels[i][0]\n",
    "    \n",
    "correlation_plot(preprocess_2, correlation_plot_labels)"
   ]
  },
  {
   "cell_type": "code",
   "execution_count": null,
   "id": "d3dd499d",
   "metadata": {},
   "outputs": [],
   "source": [
    "sns.heatmap(preprocess_2.corr())"
   ]
  },
  {
   "cell_type": "code",
   "execution_count": null,
   "id": "f8296573",
   "metadata": {},
   "outputs": [],
   "source": [
    "transaction_type_plot = transfer_or_cash_out.type.value_counts().plot(kind = 'bar', title = 'Transaction Type', figsize = (8, 6))\n",
    "\n",
    "for patch in transaction_type_plot.patches:\n",
    "    transaction_type_plot.annotate(str(format(int(patch.get_height()))), (patch.get_x(), patch.get_height() * 1.01))"
   ]
  },
  {
   "cell_type": "code",
   "execution_count": null,
   "id": "80fec9f9",
   "metadata": {},
   "outputs": [],
   "source": [
    "fraud_transaction_plot = pd.value_counts(transfer_or_cash_out['isFraud']).plot(kind = 'bar', title = 'Fraud Transaction', figsize = (8, 6))\n",
    "\n",
    "for patch in fraud_transaction_plot.patches:\n",
    "    fraud_transaction_plot.annotate(str(format(int(patch.get_height()))), (patch.get_x(), patch.get_height() * 1.01))"
   ]
  },
  {
   "cell_type": "markdown",
   "id": "70936763",
   "metadata": {},
   "source": [
    "Data visualized above have quite skewed numerical variables. Therefore scaling the data to skew"
   ]
  },
  {
   "cell_type": "code",
   "execution_count": null,
   "id": "6bdbef9f",
   "metadata": {},
   "outputs": [],
   "source": [
    "transfer_or_cash_out['amount_boxcox'] = preprocessing.scale(boxcox(transfer_or_cash_out['amount'] + 1)[0])\n",
    "transfer_or_cash_out['amount_oldbalanceOrg'] = preprocessing.scale(boxcox(transfer_or_cash_out['oldbalanceOrg'] + 1)[0])\n",
    "transfer_or_cash_out['amount_newbalanceOrig'] = preprocessing.scale(boxcox(transfer_or_cash_out['newbalanceOrig'] + 1)[0])\n",
    "transfer_or_cash_out['amount_oldbalanceDest'] = preprocessing.scale(boxcox(transfer_or_cash_out['oldbalanceDest'] + 1)[0])\n",
    "transfer_or_cash_out['amount_newbalanceDest'] = preprocessing.scale(boxcox(transfer_or_cash_out['newbalanceDest'] + 1)[0])"
   ]
  },
  {
   "cell_type": "code",
   "execution_count": null,
   "id": "ca35b4df",
   "metadata": {},
   "outputs": [],
   "source": [
    "figure, axis = plt.subplots(1, 3, figsize = (12, 5))\n",
    "\n",
    "axis[0].hist(transfer_or_cash_out['amount'])\n",
    "axis[0].set_xlabel('Transaction Amount')\n",
    "axis[0].set_title('Transaction Amount')\n",
    "axis[0].text(0.3e8, 2750000, 'Skewness: {:.2f}'.format(skew(transfer_or_cash_out['amount'])))\n",
    "\n",
    "axis[1].hist(np.sqrt(transfer_or_cash_out['amount']))\n",
    "axis[1].set_xlabel('Square Root of Transaction Amount')\n",
    "axis[1].set_title('SQRT on Transaction Amount')\n",
    "axis[1].text(3000, 2650000, 'Skewness: {:.2f}'.format(skew(np.sqrt(transfer_or_cash_out['amount']))))\n",
    "\n",
    "axis[2].hist(transfer_or_cash_out['amount_boxcox'])\n",
    "axis[2].set_xlabel('Boxcox of Transaction Amount')\n",
    "axis[2].set_title('Boxcox on Transaction Amount')\n",
    "axis[2].text(-2, 1625000, 'Skewness: {:.2f}'.format(skew(transfer_or_cash_out['amount_boxcox'])))\n",
    "\n",
    "plt.show()"
   ]
  },
  {
   "cell_type": "code",
   "execution_count": null,
   "id": "347ad326",
   "metadata": {},
   "outputs": [],
   "source": [
    "figure, axis = plt.subplots(1, 3, figsize = (12, 5))\n",
    "\n",
    "axis[0].hist(transfer_or_cash_out['oldbalanceOrg'])\n",
    "axis[0].set_xlabel('Original Old Balance')\n",
    "axis[0].set_title('Original Old Balance')\n",
    "axis[0].text(0.2e8, 2650000, 'Skewness: {:.2f}'.format(skew(transfer_or_cash_out['oldbalanceOrg'])))\n",
    "\n",
    "axis[1].hist(np.sqrt(transfer_or_cash_out['oldbalanceOrg']))\n",
    "axis[1].set_xlabel('Square Root of Original Old Balance')\n",
    "axis[1].set_title('SQRT on Original Old Balance')\n",
    "axis[1].text(2500, 2650000, 'Skewness: {:.2f}'.format(skew(np.sqrt(transfer_or_cash_out['oldbalanceOrg']))))\n",
    "\n",
    "axis[2].hist(transfer_or_cash_out['amount_oldbalanceOrg'])\n",
    "axis[2].set_xlabel('Boxcox of Original Old Balance')\n",
    "axis[2].set_title('Boxcox on Original Old Balance')\n",
    "axis[2].text(0, 1275000, 'Skewness: {:.2f}'.format(skew(transfer_or_cash_out['amount_oldbalanceOrg'])))\n",
    "\n",
    "plt.show()"
   ]
  },
  {
   "cell_type": "code",
   "execution_count": null,
   "id": "1c69b711",
   "metadata": {},
   "outputs": [],
   "source": [
    "figure, axis = plt.subplots(1, 3, figsize = (12, 5))\n",
    "\n",
    "axis[0].hist(transfer_or_cash_out['newbalanceOrig'])\n",
    "axis[0].set_xlabel('Original New Balance')\n",
    "axis[0].set_title('Original New Balance')\n",
    "axis[0].text(0.1e8, 2650000, 'Skewness: {:.2f}'.format(skew(transfer_or_cash_out['newbalanceOrig'])))\n",
    "\n",
    "axis[1].hist(np.sqrt(transfer_or_cash_out['newbalanceOrig']))\n",
    "axis[1].set_xlabel('Square Root of Original New Balance')\n",
    "axis[1].set_title('SQRT on Original New Balance')\n",
    "axis[1].text(2250, 2600000, 'Skewness: {:.2f}'.format(skew(np.sqrt(transfer_or_cash_out['newbalanceOrig']))))\n",
    "\n",
    "axis[2].hist(transfer_or_cash_out['amount_newbalanceOrig'])\n",
    "axis[2].set_xlabel('Boxcox of Original New Balance')\n",
    "axis[2].set_title('Boxcox on Original New Balance')\n",
    "axis[2].text(0.75, 2300000, 'Skewness: {:.2f}'.format(skew(transfer_or_cash_out['amount_newbalanceOrig'])))\n",
    "\n",
    "plt.show()"
   ]
  },
  {
   "cell_type": "code",
   "execution_count": null,
   "id": "89d6cd2a",
   "metadata": {},
   "outputs": [],
   "source": [
    "figure, axis = plt.subplots(1, 3, figsize = (12, 5))\n",
    "\n",
    "axis[0].hist(transfer_or_cash_out['oldbalanceDest'])\n",
    "axis[0].set_xlabel('Destination Old Balance')\n",
    "axis[0].set_title('Destination Old Balance')\n",
    "axis[0].text(0.1e9, 2700000, 'Skewness: {:.2f}'.format(skew(transfer_or_cash_out['oldbalanceDest'])))\n",
    "\n",
    "axis[1].hist(np.sqrt(transfer_or_cash_out['oldbalanceDest']))\n",
    "axis[1].set_xlabel('Square Root of Destination Old Balance')\n",
    "axis[1].set_title('SQRT on Destination Old Balance')\n",
    "axis[1].text(6000, 2350000, 'Skewness: {:.2f}'.format(skew(np.sqrt(transfer_or_cash_out['oldbalanceDest']))))\n",
    "\n",
    "axis[2].hist(transfer_or_cash_out['amount_oldbalanceDest'])\n",
    "axis[2].set_xlabel('Boxcox of Destination Old Balance')\n",
    "axis[2].set_title('Boxcox on Destination Old Balance')\n",
    "axis[2].text(0.75, 1000000, 'Skewness: {:.2f}'.format(skew(transfer_or_cash_out['amount_oldbalanceDest'])))\n",
    "\n",
    "plt.show()"
   ]
  },
  {
   "cell_type": "code",
   "execution_count": null,
   "id": "ac56a40b",
   "metadata": {},
   "outputs": [],
   "source": [
    "figure, axis = plt.subplots(1, 3, figsize = (12, 5))\n",
    "\n",
    "axis[0].hist(transfer_or_cash_out['newbalanceDest'])\n",
    "axis[0].set_xlabel('Destination New Balance')\n",
    "axis[0].set_title('Destination New Balance')\n",
    "axis[0].text(0.1e9, 2700000, 'Skewness: {:.2f}'.format(skew(transfer_or_cash_out['newbalanceDest'])))\n",
    "\n",
    "axis[1].hist(np.sqrt(transfer_or_cash_out['newbalanceDest']))\n",
    "axis[1].set_xlabel('Square Root of Destination New Balance')\n",
    "axis[1].set_title('SQRT on Destination New Balance')\n",
    "axis[1].text(2250, 2650000, 'Skewness: {:.2f}'.format(skew(np.sqrt(transfer_or_cash_out['newbalanceDest']))))\n",
    "\n",
    "axis[2].hist(transfer_or_cash_out['amount_newbalanceDest'])\n",
    "axis[2].set_xlabel('Boxcox of Destination New Balance')\n",
    "axis[2].set_title('Boxcox on Destination New Balance')\n",
    "axis[2].text(0, 1200000, 'Skewness: {:.2f}'.format(skew(transfer_or_cash_out['amount_newbalanceDest'])))\n",
    "\n",
    "plt.show()"
   ]
  },
  {
   "cell_type": "code",
   "execution_count": null,
   "id": "28c0713b",
   "metadata": {},
   "outputs": [],
   "source": [
    "print('Percentage of fraud transactions of the filtered dataset: {}%'.format((len(transfer_or_cash_out[transfer_or_cash_out['isFraud'] == 1]) / len(transfer_or_cash_out)) * 100))"
   ]
  },
  {
   "cell_type": "markdown",
   "id": "c620a12b",
   "metadata": {},
   "source": [
    "As we can observe, there is approximately only 0.3% of the actual fraud data and the remaining unrelevant data has been filtered out.\n",
    "\n",
    "Now, only boxcox data transformation will be used for the model prediction."
   ]
  },
  {
   "cell_type": "code",
   "execution_count": null,
   "id": "2d7ea1f4",
   "metadata": {},
   "outputs": [],
   "source": [
    "transfer_or_cash_out.drop(['type', 'amount', 'oldbalanceOrg', 'newbalanceOrig', 'oldbalanceDest', 'newbalanceDest'], axis = 1, inplace = True)"
   ]
  },
  {
   "cell_type": "code",
   "execution_count": null,
   "id": "d9a0ead0",
   "metadata": {
    "scrolled": true
   },
   "outputs": [],
   "source": [
    "transfer_or_cash_out.reset_index(drop = True, inplace = True)\n",
    "\n",
    "fraud_record_count = len(transfer_or_cash_out[transfer_or_cash_out['isFraud'] == 1])\n",
    "\n",
    "fraud_indices = transfer_or_cash_out[transfer_or_cash_out['isFraud'] == 1].index.values\n",
    "normal_indices = transfer_or_cash_out[transfer_or_cash_out['isFraud'] == 0].index\n",
    "\n",
    "random_normal_indices = np.array(np.random.choice(normal_indices, fraud_record_count, replace = False))\n",
    "\n",
    "combine_sample_indices = np.concatenate([fraud_indices, random_normal_indices])\n",
    "combine_sample_data = transfer_or_cash_out.iloc[combine_sample_indices, :]\n",
    "\n",
    "not_fraud_undersample = combine_sample_data.loc[:, combine_sample_data.columns != 'isFraud']\n",
    "is_fraud_undersample = combine_sample_data.loc[:, combine_sample_data.columns == 'isFraud']\n",
    "\n",
    "print('Percentage of normal transactions: ', len(combine_sample_data[combine_sample_data.isFraud == 0]) / len(combine_sample_data))\n",
    "print('Percentage of fraud transactions: ', len(combine_sample_data[combine_sample_data.isFraud == 1]) / len(combine_sample_data))\n",
    "print('Total count of sample transactions data: ', len(combine_sample_data))"
   ]
  },
  {
   "cell_type": "markdown",
   "id": "3579c904",
   "metadata": {},
   "source": [
    "## Model Training & Building"
   ]
  },
  {
   "cell_type": "markdown",
   "id": "7739903f",
   "metadata": {},
   "source": [
    "Train & Test Data Split"
   ]
  },
  {
   "cell_type": "code",
   "execution_count": null,
   "id": "fe115a34",
   "metadata": {},
   "outputs": [],
   "source": [
    "X = transfer_or_cash_out.iloc[:, transfer_or_cash_out.columns != 'isFraud']\n",
    "y = transfer_or_cash_out.iloc[:, transfer_or_cash_out.columns == 'isFraud']"
   ]
  },
  {
   "cell_type": "code",
   "execution_count": null,
   "id": "c8d569b8",
   "metadata": {},
   "outputs": [],
   "source": [
    "train_x, test_x, train_y, test_y = train_test_split(X, y, test_size = 0.2, random_state = 5)"
   ]
  },
  {
   "cell_type": "code",
   "execution_count": null,
   "id": "60259fae",
   "metadata": {},
   "outputs": [],
   "source": [
    "undersample_train_x, undersample_test_x, undersample_train_y, undersample_test_y = train_test_split(not_fraud_undersample, is_fraud_undersample, test_size = 0.2, random_state = 5)"
   ]
  },
  {
   "cell_type": "markdown",
   "id": "3d47c0f7",
   "metadata": {},
   "source": [
    "### XGBoost Model"
   ]
  },
  {
   "cell_type": "code",
   "execution_count": null,
   "id": "e9359644",
   "metadata": {},
   "outputs": [],
   "source": [
    "weights = sum(y.isFraud == 0) / sum(y.isFraud == 1)\n",
    "xgboost = XGBClassifier(scale_pos_weight = weights, n_jobs = 8, max_depth = 3)\n",
    "probability = xgboost.fit(train_x, train_y).predict_proba(test_x)\n",
    "print('Area under Precision-Recall curve(AUPRC): {}'.format(metrics.average_precision_score(test_y, probability[:, 1])))"
   ]
  },
  {
   "cell_type": "markdown",
   "id": "25de35b1",
   "metadata": {},
   "source": [
    "Important features for the ML model:"
   ]
  },
  {
   "cell_type": "code",
   "execution_count": null,
   "id": "ceb6c017",
   "metadata": {},
   "outputs": [],
   "source": [
    "figure = plt.figure(figsize = (14, 8))\n",
    "axis = figure.add_subplot(1, 1, 1)\n",
    "\n",
    "line_color = plt.cm.gist_rainbow(np.linspace(0, 1, 9))\n",
    "\n",
    "axis = plot_importance(xgboost, height = 0.75, grid = False, importance_type = 'cover', ax = axis, show_values = False, color = line_color)\n",
    "\n",
    "for area in ['top', 'bottom', 'left', 'right']:\n",
    "    axis.spines[area].set_linewidth(5)\n",
    "\n",
    "axis.set_xlabel('Relative Score', size = 15)\n",
    "axis.set_ylabel('Features', size = 15)\n",
    "axis.set_yticklabels(axis.get_yticklabels(), size = 12)\n",
    "axis.set_title('Order of the Important Features for building the ML model', size = 18)"
   ]
  },
  {
   "cell_type": "code",
   "execution_count": null,
   "id": "e4439f17",
   "metadata": {},
   "outputs": [],
   "source": [
    "train_sizes, train_scores, cross_val_scores = learning_curve(XGBClassifier(scale_pos_weight = weights, n_jobs = 8, max_depth = 3), train_x, train_y, scoring = 'average_precision')"
   ]
  },
  {
   "cell_type": "code",
   "execution_count": null,
   "id": "5bb99aae",
   "metadata": {},
   "outputs": [],
   "source": [
    "train_scores_mean = np.mean(train_scores, axis = 1)\n",
    "cross_val_scores_mean = np.mean(cross_val_scores, axis = 1)\n",
    "train_scores_std = np.std(train_scores, axis = 1)\n",
    "cross_val_scores_std = np.std(cross_val_scores, axis = 1)\n",
    "\n",
    "plt_color = plt.cm.Set2(np.linspace(0, 1, 9))\n",
    "\n",
    "figure = plt.figure(figsize = (12, 6))\n",
    "\n",
    "plt.fill_between(train_sizes, train_scores_mean - train_scores_std, train_scores_mean + train_scores_std, alpha = 0.25, color = plt_color[0])\n",
    "plt.fill_between(train_sizes, cross_val_scores_mean - cross_val_scores_std, cross_val_scores_mean + cross_val_scores_std, alpha = 0.25, color = plt_color[1])\n",
    "plt.plot(train_sizes, train_scores_mean, 'o-', label = 'train', color = plt_color[0])\n",
    "plt.plot(train_sizes, cross_val_scores_mean, 'o-', label = 'cross-val', color = plt_color[1])\n",
    "\n",
    "axis = plt.gca()\n",
    "\n",
    "for area in ['top', 'bottom', 'left', 'right']:\n",
    "    axis.spines[area].set_linewidth(5)\n",
    "    \n",
    "handles, labels = axis.get_legend_handles_labels()\n",
    "\n",
    "plt.legend(handles, ['train', 'cross-val'], bbox_to_anchor = (0.25, 0.25), shadow = True)\n",
    "plt.xlabel('Training Set', size = 12)\n",
    "plt.ylabel('AUPRC', size = 12)\n",
    "plt.title('Learning Curve Indicates A Good Accuracy Model', size = 16)"
   ]
  },
  {
   "cell_type": "markdown",
   "id": "6adcebf3",
   "metadata": {},
   "source": [
    "### XGBoost - Binary Classifier"
   ]
  },
  {
   "cell_type": "code",
   "execution_count": null,
   "id": "f7d5321b",
   "metadata": {},
   "outputs": [],
   "source": [
    "xgb_boost = XGBClassifier(objective = 'binary:logistic')\n",
    "xgb_boost.fit(undersample_train_x, undersample_train_y.values.ravel())\n",
    "xgb_boost_predict = xgb_boost.predict(undersample_test_x)\n",
    "\n",
    "print('Accuracy: {}'.format(metrics.accuracy_score(undersample_test_y, xgb_boost_predict)))"
   ]
  },
  {
   "cell_type": "code",
   "execution_count": null,
   "id": "d9a5916c",
   "metadata": {},
   "outputs": [],
   "source": [
    "xgb_boost_train_predict = xgb_boost.predict(undersample_train_x)\n",
    "\n",
    "print('Accuracy: {}'.format(metrics.accuracy_score(undersample_train_y, xgb_boost_train_predict)))"
   ]
  },
  {
   "cell_type": "markdown",
   "id": "8c66f7eb",
   "metadata": {},
   "source": [
    "Check for Overfitting"
   ]
  },
  {
   "cell_type": "code",
   "execution_count": null,
   "id": "b52572d3",
   "metadata": {},
   "outputs": [],
   "source": [
    "print('Training Set Score: {}'.format(xgb_boost.score(undersample_train_x, undersample_train_y)))\n",
    "print('Testing Set Score: {}'.format(xgb_boost.score(undersample_test_x, undersample_test_y)))"
   ]
  },
  {
   "cell_type": "markdown",
   "id": "bb1d41e7",
   "metadata": {},
   "source": [
    "Confusion Matrix"
   ]
  },
  {
   "cell_type": "code",
   "execution_count": null,
   "id": "04e98e08",
   "metadata": {},
   "outputs": [],
   "source": [
    "xgb_regression_ConfusionMatrix = metrics.confusion_matrix(undersample_test_y, xgb_boost_predict)\n",
    "\n",
    "print('Confusion Matrix:\\n', xgb_regression_ConfusionMatrix)\n",
    "\n",
    "print('\\nTrue Positive[TP]: {}'.format(xgb_regression_ConfusionMatrix[0, 0]))\n",
    "print('False Positive[FP]: {}'.format(xgb_regression_ConfusionMatrix[0, 1]))\n",
    "print('False Negative[FN]: {}'.format(xgb_regression_ConfusionMatrix[1, 0]))\n",
    "print('True Negative[TN]: {}'.format(xgb_regression_ConfusionMatrix[1, 1]))"
   ]
  },
  {
   "cell_type": "code",
   "execution_count": null,
   "id": "e2bec0dd",
   "metadata": {},
   "outputs": [],
   "source": [
    "xgb_regression_confusion_matrix_plot = pd.DataFrame(data = xgb_regression_ConfusionMatrix, columns = ['Actual Positive', 'Actual Negative'],\n",
    "                                    index = ['Predict Positive', 'Predict Negative'])\n",
    "sns.heatmap(xgb_regression_confusion_matrix_plot, annot = True, cmap = 'GnBu')"
   ]
  },
  {
   "cell_type": "markdown",
   "id": "7381f3f7",
   "metadata": {},
   "source": [
    "Classification Metrics"
   ]
  },
  {
   "cell_type": "code",
   "execution_count": null,
   "id": "d9c14a3d",
   "metadata": {},
   "outputs": [],
   "source": [
    "print(metrics.classification_report(undersample_test_y, xgb_boost_predict))"
   ]
  },
  {
   "cell_type": "markdown",
   "id": "dc3c537b",
   "metadata": {},
   "source": [
    "Optimal Hyperparameter Tuning for Ideal XGBoost Model"
   ]
  },
  {
   "cell_type": "code",
   "execution_count": null,
   "id": "ce1edc8b",
   "metadata": {},
   "outputs": [],
   "source": [
    "parameter = {\n",
    "    'colsample_bytree': uniform(0.7, 0.3),\n",
    "    'gamma': uniform(0, 0.5),\n",
    "    'learning_rate': uniform(0.05, 0.25),\n",
    "    'max_depth': randint(2, 6),\n",
    "    'n_estimators': randint(100, 150),\n",
    "    'subsample': uniform(0.6, 0.4)\n",
    "}"
   ]
  },
  {
   "cell_type": "code",
   "execution_count": null,
   "id": "1e5e8fc2",
   "metadata": {},
   "outputs": [],
   "source": [
    "random_search_cv = RandomizedSearchCV(xgb_boost, param_distributions = parameter, n_iter = 200, cv = 3, verbose = 1, n_jobs = 2, return_train_score = True)\n",
    "random_search_cv.fit(undersample_test_x, undersample_test_y)\n",
    "\n",
    "# print('Score: {}'.format(random_search_cv.cv_results_.keys()))\n",
    "\n",
    "for i in range(1, 5):\n",
    "    candidates = np.flatnonzero(random_search_cv.cv_results_['rank_test_score'] == i)\n",
    "    for candidate in candidates:\n",
    "        print('Model\\'s Rank: {}'.format(i))\n",
    "        print('Mean Validation Score: {} ; Standard Deviation Score: {}'.format(random_search_cv.cv_results_['mean_test_score'][candidate], random_search_cv.cv_results_['std_test_score'][candidate]))\n",
    "        print('Parameter: {}'.format(random_search_cv.cv_results_['params'][candidate]))"
   ]
  },
  {
   "cell_type": "code",
   "execution_count": null,
   "id": "ca8bba92",
   "metadata": {},
   "outputs": [],
   "source": [
    "ideal_xgb_boost = XGBClassifier(objective = 'binary:logistic', eval_metric = ['auc'], n_estimators = 20)\n",
    "ideal_xgb_boost.fit(undersample_train_x, undersample_train_y.values.ravel(), early_stopping_rounds = 5, eval_set = [(undersample_test_x, undersample_test_y)])\n",
    "ideal_xgb_boost_predict = ideal_xgb_boost.predict(undersample_test_x)\n",
    "\n",
    "print('Accuracy: {}'.format(metrics.accuracy_score(undersample_test_y, ideal_xgb_boost_predict)))\n",
    "\n",
    "print('\\nBest Score: {}\\nBest Iteration: {}\\nBest ntree limit: {}'.format(ideal_xgb_boost.best_score, ideal_xgb_boost.best_iteration, ideal_xgb_boost.best_ntree_limit))"
   ]
  },
  {
   "cell_type": "markdown",
   "id": "d2926e03",
   "metadata": {},
   "source": [
    "### Random Forest Classifier Model"
   ]
  },
  {
   "cell_type": "code",
   "execution_count": null,
   "id": "5d6a3a3f",
   "metadata": {
    "scrolled": true
   },
   "outputs": [],
   "source": [
    "random_forest_classifier = RandomForestClassifier(n_estimators = 100)\n",
    "random_forest_classifier.fit(undersample_train_x, undersample_train_y.values.ravel())\n",
    "random_forest_classifier_predict = random_forest_classifier.predict(undersample_test_x)\n",
    "\n",
    "print('Accuracy: {}'.format(metrics.accuracy_score(undersample_test_y, random_forest_classifier_predict)))"
   ]
  },
  {
   "cell_type": "code",
   "execution_count": null,
   "id": "96237599",
   "metadata": {},
   "outputs": [],
   "source": [
    "random_forest_classifier_train_predict = random_forest_classifier.predict(undersample_train_x)\n",
    "\n",
    "print('Accuracy: {}'.format(metrics.accuracy_score(undersample_train_y, random_forest_classifier_train_predict)))"
   ]
  },
  {
   "cell_type": "markdown",
   "id": "c8146717",
   "metadata": {},
   "source": [
    "Check for Overfitting"
   ]
  },
  {
   "cell_type": "code",
   "execution_count": null,
   "id": "c3fc62c7",
   "metadata": {},
   "outputs": [],
   "source": [
    "print('Training Set Score: {}'.format(random_forest_classifier.score(undersample_train_x, undersample_train_y)))\n",
    "print('Testing Set Score: {}'.format(random_forest_classifier.score(undersample_test_x, undersample_test_y)))"
   ]
  },
  {
   "cell_type": "markdown",
   "id": "92c8e8a4",
   "metadata": {},
   "source": [
    "Confusion Matrix"
   ]
  },
  {
   "cell_type": "code",
   "execution_count": null,
   "id": "4debca97",
   "metadata": {},
   "outputs": [],
   "source": [
    "RFC_ConfusionMatrix = metrics.confusion_matrix(undersample_test_y, random_forest_classifier_predict)\n",
    "\n",
    "print('Confusion Matrix:\\n', RFC_ConfusionMatrix)\n",
    "\n",
    "print('\\nTrue Positive[TP]: {}'.format(RFC_ConfusionMatrix[0, 0]))\n",
    "print('False Positive[FP]: {}'.format(RFC_ConfusionMatrix[0, 1]))\n",
    "print('False Negative[FN]: {}'.format(RFC_ConfusionMatrix[1, 0]))\n",
    "print('True Negative[TN]: {}'.format(RFC_ConfusionMatrix[1, 1]))"
   ]
  },
  {
   "cell_type": "code",
   "execution_count": null,
   "id": "6e7a0177",
   "metadata": {},
   "outputs": [],
   "source": [
    "rfc_confusion_matrix_plot = pd.DataFrame(data = RFC_ConfusionMatrix, columns = ['Actual Positive', 'Actual Negative'],\n",
    "                                    index = ['Predict Positive', 'Predict Negative'])\n",
    "sns.heatmap(rfc_confusion_matrix_plot, annot = True, cmap = 'GnBu')"
   ]
  },
  {
   "cell_type": "markdown",
   "id": "65b63e7a",
   "metadata": {},
   "source": [
    "Classification Metrics"
   ]
  },
  {
   "cell_type": "code",
   "execution_count": null,
   "id": "5f577eb3",
   "metadata": {},
   "outputs": [],
   "source": [
    "print(metrics.classification_report(undersample_test_y, random_forest_classifier_predict))"
   ]
  },
  {
   "cell_type": "markdown",
   "id": "b240bd79",
   "metadata": {},
   "source": [
    "### LightGBM Model"
   ]
  },
  {
   "cell_type": "code",
   "execution_count": null,
   "id": "30b07c08",
   "metadata": {},
   "outputs": [],
   "source": [
    "lightGBM_model = lgb.LGBMClassifier()\n",
    "lightGBM_model.fit(undersample_train_x, undersample_train_y.values.ravel())\n",
    "lightGBM_model_predict = lightGBM_model.predict(undersample_test_x)\n",
    "\n",
    "print('Accuracy: {}'.format(metrics.accuracy_score(undersample_test_y, lightGBM_model_predict)))"
   ]
  },
  {
   "cell_type": "code",
   "execution_count": null,
   "id": "63280038",
   "metadata": {},
   "outputs": [],
   "source": [
    "lightGBM_model_train_predict = lightGBM_model.predict(undersample_train_x)\n",
    "\n",
    "print('Accuracy: {}'.format(metrics.accuracy_score(undersample_train_y, lightGBM_model_train_predict)))"
   ]
  },
  {
   "cell_type": "markdown",
   "id": "1453fffb",
   "metadata": {},
   "source": [
    "Check for Overfitting"
   ]
  },
  {
   "cell_type": "code",
   "execution_count": null,
   "id": "8fc8a650",
   "metadata": {},
   "outputs": [],
   "source": [
    "print('Training Set Score: {}'.format(lightGBM_model.score(undersample_train_x, undersample_train_y)))\n",
    "print('Testing Set Score: {}'.format(lightGBM_model.score(undersample_test_x, undersample_test_y)))"
   ]
  },
  {
   "cell_type": "markdown",
   "id": "4254de64",
   "metadata": {},
   "source": [
    "Confusion Matrix"
   ]
  },
  {
   "cell_type": "code",
   "execution_count": null,
   "id": "abbc2564",
   "metadata": {},
   "outputs": [],
   "source": [
    "LGBM_ConfusionMatrix = metrics.confusion_matrix(undersample_test_y, lightGBM_model_predict)\n",
    "\n",
    "print('Confusion Matrix:\\n', LGBM_ConfusionMatrix)\n",
    "\n",
    "print('\\nTrue Positive[TP]: {}'.format(LGBM_ConfusionMatrix[0, 0]))\n",
    "print('False Positive[FP]: {}'.format(LGBM_ConfusionMatrix[0, 1]))\n",
    "print('False Negative[FN]: {}'.format(LGBM_ConfusionMatrix[1, 0]))\n",
    "print('True Negative[TN]: {}'.format(LGBM_ConfusionMatrix[1, 1]))"
   ]
  },
  {
   "cell_type": "code",
   "execution_count": null,
   "id": "bb0cc7fa",
   "metadata": {
    "scrolled": true
   },
   "outputs": [],
   "source": [
    "lgbm_confusion_matrix_plot = pd.DataFrame(data = LGBM_ConfusionMatrix, columns = ['Actual Positive', 'Actual Negative'],\n",
    "                                    index = ['Predict Positive', 'Predict Negative'])\n",
    "sns.heatmap(lgbm_confusion_matrix_plot, annot = True, cmap = 'GnBu')"
   ]
  },
  {
   "cell_type": "markdown",
   "id": "eecfb858",
   "metadata": {},
   "source": [
    "Classification Metrics"
   ]
  },
  {
   "cell_type": "code",
   "execution_count": null,
   "id": "a8134c68",
   "metadata": {
    "scrolled": true
   },
   "outputs": [],
   "source": [
    "print(metrics.classification_report(undersample_test_y, lightGBM_model_predict))"
   ]
  },
  {
   "cell_type": "markdown",
   "id": "ac4bd148",
   "metadata": {},
   "source": [
    "### Logistic Regression"
   ]
  },
  {
   "cell_type": "code",
   "execution_count": null,
   "id": "df879fa0",
   "metadata": {},
   "outputs": [],
   "source": [
    "logistic_regression_model = LogisticRegression()\n",
    "logistic_regression_model.fit(undersample_train_x, undersample_train_y.values.ravel())\n",
    "logistic_regression_model_predict = logistic_regression_model.predict(undersample_test_x)\n",
    "\n",
    "print('Accuracy: {}'.format(metrics.accuracy_score(undersample_test_y, logistic_regression_model_predict)))"
   ]
  },
  {
   "cell_type": "code",
   "execution_count": null,
   "id": "f4482bdb",
   "metadata": {
    "scrolled": true
   },
   "outputs": [],
   "source": [
    "k_fold = StratifiedKFold(5)\n",
    "cross_validation_score = cross_val_score(logistic_regression_model, undersample_train_x, undersample_train_y.values.ravel(), cv = k_fold, scoring = 'recall')\n",
    "\n",
    "print('Average Recall Score across Validation Set: {}'.format(np.mean(cross_validation_score)))"
   ]
  },
  {
   "cell_type": "markdown",
   "id": "4cb8de7c",
   "metadata": {},
   "source": [
    "Check for Overfitting"
   ]
  },
  {
   "cell_type": "code",
   "execution_count": null,
   "id": "1a866105",
   "metadata": {},
   "outputs": [],
   "source": [
    "print('Training Set Score: {}'.format(logistic_regression_model.score(undersample_train_x, undersample_train_y)))\n",
    "print('Testing Set Score: {}'.format(logistic_regression_model.score(undersample_test_x, undersample_test_y)))"
   ]
  },
  {
   "cell_type": "markdown",
   "id": "9e223df0",
   "metadata": {},
   "source": [
    "Confusion Matrix"
   ]
  },
  {
   "cell_type": "code",
   "execution_count": null,
   "id": "4547b1b9",
   "metadata": {},
   "outputs": [],
   "source": [
    "logistic_regression_ConfusionMatrix = metrics.confusion_matrix(undersample_test_y, logistic_regression_model_predict)\n",
    "\n",
    "print('Confusion Matrix:\\n', logistic_regression_ConfusionMatrix)\n",
    "\n",
    "print('\\nTrue Positive[TP]: {}'.format(logistic_regression_ConfusionMatrix[0, 0]))\n",
    "print('False Positive[FP]: {}'.format(logistic_regression_ConfusionMatrix[0, 1]))\n",
    "print('False Negative[FN]: {}'.format(logistic_regression_ConfusionMatrix[1, 0]))\n",
    "print('True Negative[TN]: {}'.format(logistic_regression_ConfusionMatrix[1, 1]))"
   ]
  },
  {
   "cell_type": "code",
   "execution_count": null,
   "id": "2ea0715b",
   "metadata": {},
   "outputs": [],
   "source": [
    "logistic_regression_confusion_matrix_plot = pd.DataFrame(data = logistic_regression_ConfusionMatrix, columns = ['Actual Positive', 'Actual Negative'],\n",
    "                                    index = ['Predict Positive', 'Predict Negative'])\n",
    "sns.heatmap(logistic_regression_confusion_matrix_plot, annot = True, cmap = 'GnBu')"
   ]
  },
  {
   "cell_type": "code",
   "execution_count": null,
   "id": "1b8ee49d",
   "metadata": {
    "scrolled": true
   },
   "outputs": [],
   "source": [
    "print(metrics.classification_report(undersample_test_y, logistic_regression_model_predict))"
   ]
  },
  {
   "cell_type": "markdown",
   "id": "fd20590c",
   "metadata": {},
   "source": [
    "Optimal Hyperparameter Tuning for Ideal Logistic Regression"
   ]
  },
  {
   "cell_type": "code",
   "execution_count": null,
   "id": "68f9efbe",
   "metadata": {},
   "outputs": [],
   "source": [
    "parameter = [\n",
    "    {'penalty': ['l1', 'l2'],\n",
    "     'C': [0.001, 0.01, 0.1, 1, 10, 100, 1000],\n",
    "     'solver': ['lbfgs', 'liblinear', 'newton-cg', 'sag', 'saga'],\n",
    "     'max_iter': [100, 150, 500, 1000]\n",
    "    }\n",
    "]"
   ]
  },
  {
   "cell_type": "code",
   "execution_count": null,
   "id": "2cf8019c",
   "metadata": {},
   "outputs": [],
   "source": [
    "lr_grid_search_cv = GridSearchCV(logistic_regression_model, param_grid = parameter, cv = 3)\n",
    "lr_grid_search_cv_fit = lr_grid_search_cv.fit(undersample_train_x.values, undersample_train_y.values.ravel())\n",
    "lr_grid_search_cv_fit"
   ]
  },
  {
   "cell_type": "code",
   "execution_count": null,
   "id": "f52c7d25",
   "metadata": {},
   "outputs": [],
   "source": [
    "print('Best Parameter for Logistic Regression: {}'.format(lr_grid_search_cv_fit.best_params_))"
   ]
  },
  {
   "cell_type": "code",
   "execution_count": null,
   "id": "ad680577",
   "metadata": {
    "scrolled": false
   },
   "outputs": [],
   "source": [
    "print('Accuracy: {}'.format(lr_grid_search_cv_fit.score(undersample_train_x.values, undersample_train_y.values)))"
   ]
  },
  {
   "cell_type": "markdown",
   "id": "f5c7107a",
   "metadata": {},
   "source": [
    "Area Under Curve(AUC) - Evaluation Metric"
   ]
  },
  {
   "cell_type": "code",
   "execution_count": null,
   "id": "2126bead",
   "metadata": {},
   "outputs": [],
   "source": [
    "ideal_logistic_regression_model = LogisticRegression(C = 100, penalty = 'l2', solver = 'lbfgs', max_iter = 500)\n",
    "ideal_logistic_regression_model_fit = ideal_logistic_regression_model.fit(undersample_train_x.values, undersample_train_y.values.ravel()).decision_function(undersample_test_x.values)\n",
    "ideal_logistic_regression_model_predict = ideal_logistic_regression_model.predict(undersample_test_x)\n",
    "\n",
    "false_positive_rate, true_positive_rate, thresholds = metrics.roc_curve(undersample_test_y.values.ravel(), ideal_logistic_regression_model_fit)\n",
    "roc_auc_lr = metrics.auc(false_positive_rate, true_positive_rate)\n",
    "print('AUC Value: {}'.format(roc_auc_lr))\n",
    "\n",
    "plt.title('ROC Curve', size = 15)\n",
    "plt.plot(false_positive_rate, true_positive_rate, 'r', label = 'AUC: {:0.2f}'.format(roc_auc_lr))\n",
    "plt.plot([0, 1], [0, 1], 'g--')\n",
    "plt.legend(loc = 'lower right')\n",
    "plt.xlabel('False Positive Rate')\n",
    "plt.ylabel('True Positive Rate')"
   ]
  },
  {
   "cell_type": "markdown",
   "id": "f3634269",
   "metadata": {},
   "source": [
    "### Decision Trees "
   ]
  },
  {
   "cell_type": "code",
   "execution_count": null,
   "id": "5be5ac3f",
   "metadata": {},
   "outputs": [],
   "source": [
    "decision_tree_classifier_model = DecisionTreeClassifier()\n",
    "decision_tree_classifier_model.fit(undersample_train_x, undersample_train_y.values.ravel())\n",
    "decision_tree_classifier_model_predict = decision_tree_classifier_model.predict(undersample_test_x)\n",
    "\n",
    "print('Accuracy: {}'.format(metrics.accuracy_score(undersample_test_y, decision_tree_classifier_model_predict)))"
   ]
  },
  {
   "cell_type": "code",
   "execution_count": null,
   "id": "699db30c",
   "metadata": {},
   "outputs": [],
   "source": [
    "decision_tree_classifier_model_train_predict = decision_tree_classifier_model.predict(undersample_train_x)\n",
    "\n",
    "print('Accuracy: {}'.format(metrics.accuracy_score(undersample_train_y, decision_tree_classifier_model_train_predict)))"
   ]
  },
  {
   "cell_type": "markdown",
   "id": "ac7ced42",
   "metadata": {},
   "source": [
    "Check for Overfitting"
   ]
  },
  {
   "cell_type": "code",
   "execution_count": null,
   "id": "bcb9de13",
   "metadata": {},
   "outputs": [],
   "source": [
    "print('Training Set Score: {}'.format(decision_tree_classifier_model.score(undersample_train_x, undersample_train_y)))\n",
    "print('Testing Set Score: {}'.format(decision_tree_classifier_model.score(undersample_test_x, undersample_test_y)))"
   ]
  },
  {
   "cell_type": "markdown",
   "id": "d3311a3d",
   "metadata": {},
   "source": [
    "Confusion Matrix"
   ]
  },
  {
   "cell_type": "code",
   "execution_count": null,
   "id": "53b0acf5",
   "metadata": {},
   "outputs": [],
   "source": [
    "decision_tree_ConfusionMatrix = metrics.confusion_matrix(undersample_test_y, decision_tree_classifier_model_predict)\n",
    "\n",
    "print('Confusion Matrix:\\n', decision_tree_ConfusionMatrix)\n",
    "\n",
    "print('\\nTrue Positive[TP]: {}'.format(decision_tree_ConfusionMatrix[0, 0]))\n",
    "print('False Positive[FP]: {}'.format(decision_tree_ConfusionMatrix[0, 1]))\n",
    "print('False Negative[FN]: {}'.format(decision_tree_ConfusionMatrix[1, 0]))\n",
    "print('True Negative[TN]: {}'.format(decision_tree_ConfusionMatrix[1, 1]))"
   ]
  },
  {
   "cell_type": "code",
   "execution_count": null,
   "id": "b12bb838",
   "metadata": {
    "scrolled": true
   },
   "outputs": [],
   "source": [
    "decision_tree_confusion_matrix_plot = pd.DataFrame(data = decision_tree_ConfusionMatrix, columns = ['Actual Positive', 'Actual Negative'],\n",
    "                                    index = ['Predict Positive', 'Predict Negative'])\n",
    "sns.heatmap(decision_tree_confusion_matrix_plot, annot = True, cmap = 'GnBu')"
   ]
  },
  {
   "cell_type": "markdown",
   "id": "3aa2dfd8",
   "metadata": {},
   "source": [
    "Classification Metrics"
   ]
  },
  {
   "cell_type": "code",
   "execution_count": null,
   "id": "1d265fc6",
   "metadata": {},
   "outputs": [],
   "source": [
    "print(metrics.classification_report(undersample_test_y, decision_tree_classifier_model_predict))"
   ]
  },
  {
   "cell_type": "markdown",
   "id": "1f694898",
   "metadata": {},
   "source": [
    "Area Under Curve(AUC) - Evaluation Metric"
   ]
  },
  {
   "cell_type": "code",
   "execution_count": null,
   "id": "31dbc886",
   "metadata": {},
   "outputs": [],
   "source": [
    "false_positive_rate, true_positive_rate, thresholds = metrics.roc_curve(undersample_test_y.values.ravel(), decision_tree_classifier_model_predict)\n",
    "roc_auc_decision_tree = metrics.auc(false_positive_rate, true_positive_rate)\n",
    "print('AUC Value: {}'.format(roc_auc_decision_tree))"
   ]
  },
  {
   "cell_type": "markdown",
   "id": "e00aa4aa",
   "metadata": {},
   "source": [
    "Optimal Hyperparameter Tuning for Ideal Decision Tree "
   ]
  },
  {
   "cell_type": "code",
   "execution_count": null,
   "id": "16b4e1a2",
   "metadata": {},
   "outputs": [],
   "source": [
    "parameter = [\n",
    "    {'max_depth': np.linspace(1, 32, 32, endpoint = True),\n",
    "     'min_samples_leaf': np.linspace(0.1, 0.5, 5, endpoint = True),\n",
    "     'min_samples_split': np.linspace(0.25, 1.0, 10, endpoint = True),\n",
    "     'max_features': list(range(1, undersample_train_x.shape[1]))\n",
    "    }\n",
    "]"
   ]
  },
  {
   "cell_type": "code",
   "execution_count": null,
   "id": "4499f9f8",
   "metadata": {},
   "outputs": [],
   "source": [
    "decision_tree_grid_search_cv = GridSearchCV(decision_tree_classifier_model, param_grid = parameter, cv = 3)\n",
    "decision_tree_grid_search_cv_fit = decision_tree_grid_search_cv.fit(undersample_train_x.values, undersample_train_y.values.ravel())\n",
    "decision_tree_grid_search_cv_fit"
   ]
  },
  {
   "cell_type": "code",
   "execution_count": null,
   "id": "3ccedd61",
   "metadata": {},
   "outputs": [],
   "source": [
    "print('Best Parameter for Decision Tree: {}'.format(decision_tree_grid_search_cv_fit.best_params_))"
   ]
  },
  {
   "cell_type": "code",
   "execution_count": null,
   "id": "40a17728",
   "metadata": {},
   "outputs": [],
   "source": [
    "print('Accuracy: {}'.format(decision_tree_grid_search_cv_fit.score(undersample_train_x.values, undersample_train_y.values)))"
   ]
  },
  {
   "cell_type": "markdown",
   "id": "dff3168e",
   "metadata": {},
   "source": [
    "Area Under Curve(AUC) - Evaluation Metric"
   ]
  },
  {
   "cell_type": "code",
   "execution_count": null,
   "id": "5a18912b",
   "metadata": {},
   "outputs": [],
   "source": [
    "ideal_decision_tree_classifier_model = DecisionTreeClassifier(max_depth = 18.0, max_features = 3, min_samples_leaf = 0.1, min_samples_split = 0.3333333333333333)\n",
    "ideal_decision_tree_classifier_model.fit(undersample_train_x, undersample_train_y.values.ravel())\n",
    "ideal_decision_tree_classifier_model_predict = ideal_decision_tree_classifier_model.predict(undersample_test_x)\n",
    "\n",
    "print('Accuracy: {}'.format(metrics.accuracy_score(undersample_test_y, ideal_decision_tree_classifier_model_predict)))"
   ]
  },
  {
   "cell_type": "markdown",
   "id": "07bd2c60",
   "metadata": {},
   "source": [
    "## Summary"
   ]
  },
  {
   "cell_type": "markdown",
   "id": "42219716",
   "metadata": {},
   "source": [
    "### XGBoost Model - Binary Classifier"
   ]
  },
  {
   "cell_type": "code",
   "execution_count": null,
   "id": "ade02fdf",
   "metadata": {},
   "outputs": [],
   "source": [
    "print('Accuracy: {}'.format(metrics.accuracy_score(undersample_test_y, ideal_xgb_boost_predict)))"
   ]
  },
  {
   "cell_type": "markdown",
   "id": "35ac661a",
   "metadata": {},
   "source": [
    "### Random Forest Classifier "
   ]
  },
  {
   "cell_type": "code",
   "execution_count": null,
   "id": "63441ef6",
   "metadata": {},
   "outputs": [],
   "source": [
    "print('Accuracy of Random Forest Classifier: {}'.format(metrics.accuracy_score(undersample_test_y, random_forest_classifier_predict)))"
   ]
  },
  {
   "cell_type": "markdown",
   "id": "249a1544",
   "metadata": {},
   "source": [
    "### LightGBM Model"
   ]
  },
  {
   "cell_type": "code",
   "execution_count": null,
   "id": "cf05fac6",
   "metadata": {},
   "outputs": [],
   "source": [
    "print('Accuracy: {}'.format(metrics.accuracy_score(undersample_test_y, lightGBM_model_predict)))"
   ]
  },
  {
   "cell_type": "markdown",
   "id": "65d3a63f",
   "metadata": {},
   "source": [
    "### Logistic Regression"
   ]
  },
  {
   "cell_type": "code",
   "execution_count": null,
   "id": "00919a9a",
   "metadata": {
    "scrolled": true
   },
   "outputs": [],
   "source": [
    "print('Accuracy : {}'.format(metrics.accuracy_score(undersample_test_y, ideal_logistic_regression_model_predict)))"
   ]
  },
  {
   "cell_type": "markdown",
   "id": "f16df035",
   "metadata": {},
   "source": [
    "### Decision Trees"
   ]
  },
  {
   "cell_type": "code",
   "execution_count": null,
   "id": "2c42e549",
   "metadata": {},
   "outputs": [],
   "source": [
    "print('Accuracy: {}'.format(metrics.accuracy_score(undersample_test_y, decision_tree_classifier_model_predict)))"
   ]
  },
  {
   "cell_type": "markdown",
   "id": "09976cfa",
   "metadata": {},
   "source": [
    "## *******************************************\n",
    "### Best Model - LightGBM(99.3% accuracy)\n",
    "## *******************************************"
   ]
  }
 ],
 "metadata": {
  "kernelspec": {
   "display_name": "Python 3 (ipykernel)",
   "language": "python",
   "name": "python3"
  },
  "language_info": {
   "codemirror_mode": {
    "name": "ipython",
    "version": 3
   },
   "file_extension": ".py",
   "mimetype": "text/x-python",
   "name": "python",
   "nbconvert_exporter": "python",
   "pygments_lexer": "ipython3",
   "version": "3.10.5"
  }
 },
 "nbformat": 4,
 "nbformat_minor": 5
}
