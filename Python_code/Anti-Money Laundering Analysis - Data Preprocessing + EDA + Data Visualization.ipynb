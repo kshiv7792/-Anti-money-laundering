{
 "cells": [
  {
   "cell_type": "markdown",
   "id": "e1c02af5",
   "metadata": {},
   "source": [
    "# Anti-Money Laundering System"
   ]
  },
  {
   "cell_type": "markdown",
   "id": "d2bfd4ab",
   "metadata": {},
   "source": [
    "## Problem Statement"
   ]
  },
  {
   "cell_type": "markdown",
   "id": "72ab8ead",
   "metadata": {},
   "source": [
    "Money Laundering is a major challenge in the present highly digitalized economic ecosystem. The fraudulent behavior of the agents aims to profit by taking control of customers accounts and try to empty the funds by transferring to another account and then cashing out of the system. The main objective of this project is to built a machine learning model based on financial transaction data for detecting such fraudulent behavior."
   ]
  },
  {
   "cell_type": "markdown",
   "id": "1b221ff3",
   "metadata": {},
   "source": [
    "***CRISP-ML(Q)*** process model describes six phases:\n",
    "\n",
    "1. Business and Data Understanding\n",
    "2. Data Preparation\n",
    "3. Model Building\n",
    "4. Model Evaluation\n",
    "5. Deployment\n",
    "6. Monitoring and Maintenance"
   ]
  },
  {
   "cell_type": "markdown",
   "id": "975dfcda",
   "metadata": {},
   "source": [
    "**Objective(s):** Maximizing the detection of fraud transactions via different channels.\n",
    "\n",
    "**Constraints:** Minimizing false positives being generated for fraud transactions"
   ]
  },
  {
   "cell_type": "markdown",
   "id": "116e38a3",
   "metadata": {},
   "source": [
    "# Data Collection"
   ]
  },
  {
   "cell_type": "markdown",
   "id": "4fc2c539",
   "metadata": {},
   "source": [
    "**Data:** This is a synthetic dataset generated using the simulator called PaySim. PaySim uses aggregated data from the private dataset to generate a synthetic dataset that resembles the normal operation of transactions and injects malicious behaviour to later evaluate the performance of fraud detection methods.\n",
    "\n",
    "**Dataset:** \n",
    "* Our dataset has 6362620 observations about financial transactions.\n",
    "* And it has 11 variables associated to each transactions. \n",
    "\n",
    "**Variables Description:**\n",
    "* step - Maps a unit of time in the real world(1 step = 1 hour of time).\n",
    "\n",
    "* type - CASH-IN, CASH-OUT, DEBIT, PAYMENT and TRANSFER.\n",
    "\n",
    "* amount - Amount of the transaction in local currency.\n",
    "\n",
    "* nameOrig - Customer who started the transaction.\n",
    "\n",
    "* oldbalanceOrg - Initial balance before the transaction.\n",
    "\n",
    "* newbalanceOrig - New balance after the transaction.\n",
    "\n",
    "* nameDest - Customer who is the recipient of the transaction.\n",
    "\n",
    "* oldbalanceDest - Initial balance recipient before the transaction.\n",
    "\n",
    "* newbalanceDest - New balance recipient after the transaction.\n",
    "\n",
    "* isFraud - This is the transactions made by the fraudulent agents inside the simulation.\n",
    "\n",
    "* isFlaggedFraud - The business model aims to control massive transfers from one account to another and flags illegal attempts. An illegal attempt means to transfer more than 200.000 in a single transaction.\n",
    "\n",
    ">  Note that there is not information for customers that start with M (Merchants)."
   ]
  },
  {
   "cell_type": "markdown",
   "id": "1e310621",
   "metadata": {},
   "source": [
    "**Required Libraries**"
   ]
  },
  {
   "cell_type": "code",
   "execution_count": null,
   "id": "5372259b",
   "metadata": {},
   "outputs": [],
   "source": [
    "import pandas as pd\n",
    "import numpy as np\n",
    "import matplotlib.pyplot as plt\n",
    "import matplotlib.cm as cm\n",
    "import seaborn as sns\n",
    "import sweetviz\n",
    "import dtale\n",
    "from sklearn_pandas import DataFrameMapper\n",
    "from sklearn.model_selection import train_test_split\n",
    "from sklearn.impute import SimpleImputer\n",
    "from sklearn.compose import ColumnTransformer\n",
    "from sklearn import preprocessing\n",
    "from sklearn.preprocessing import LabelEncoder\n",
    "from sklearn.preprocessing import MinMaxScaler\n",
    "from sklearn.pipeline import Pipeline\n",
    "from scipy.stats import boxcox, skew"
   ]
  },
  {
   "cell_type": "markdown",
   "id": "3e75bcf2",
   "metadata": {},
   "source": [
    "**Importing the data**"
   ]
  },
  {
   "cell_type": "code",
   "execution_count": null,
   "id": "72a3c335",
   "metadata": {},
   "outputs": [],
   "source": [
    "transaction_details_dataset = pd.read_csv(\"transaction_details.csv\")"
   ]
  },
  {
   "cell_type": "code",
   "execution_count": null,
   "id": "ffb6b636",
   "metadata": {},
   "outputs": [],
   "source": [
    "transaction_details_dataset.isnull().values.any()"
   ]
  },
  {
   "cell_type": "code",
   "execution_count": null,
   "id": "0c8dd5e4",
   "metadata": {},
   "outputs": [],
   "source": [
    "print(\"Our dataset has {} observations and {} columns\".format(transaction_details_dataset.shape[0], transaction_details_dataset.shape[1]))"
   ]
  },
  {
   "cell_type": "code",
   "execution_count": null,
   "id": "26c1815c",
   "metadata": {},
   "outputs": [],
   "source": [
    "transaction_details_dataset.head()"
   ]
  },
  {
   "cell_type": "code",
   "execution_count": null,
   "id": "20e17298",
   "metadata": {},
   "outputs": [],
   "source": [
    "transaction_details_dataset.describe()"
   ]
  },
  {
   "cell_type": "code",
   "execution_count": null,
   "id": "bec84e47",
   "metadata": {},
   "outputs": [],
   "source": [
    "transaction_details_dataset.info()"
   ]
  },
  {
   "cell_type": "markdown",
   "id": "da7f8e86",
   "metadata": {},
   "source": [
    "## Exploratory Data Analysis (EDA) / Descriptive Statistics"
   ]
  },
  {
   "cell_type": "code",
   "execution_count": null,
   "id": "5bd85c73",
   "metadata": {},
   "outputs": [],
   "source": [
    "print(transaction_details_dataset.type.value_counts())"
   ]
  },
  {
   "cell_type": "code",
   "execution_count": null,
   "id": "53a982ca",
   "metadata": {},
   "outputs": [],
   "source": [
    "print('Types of fraud transactions: {}'.format(list(transaction_details_dataset.loc[transaction_details_dataset.isFraud == 1].type.drop_duplicates().values)))\n",
    "\n",
    "fraud_transfer = transaction_details_dataset.loc[(transaction_details_dataset.isFraud == 1) & (transaction_details_dataset.type == 'TRANSFER')]\n",
    "fraud_cash_out = transaction_details_dataset.loc[(transaction_details_dataset.isFraud == 1) & (transaction_details_dataset.type == 'CASH_OUT')]\n",
    "\n",
    "print('\\nNumber of fraud TRANSFER\\'s: {}'.format(len(fraud_transfer)))\n",
    "print('Number of fraud CASH_OUT\\'s: {}'.format(len(fraud_cash_out)))\n",
    "\n",
    "print('\\nPercentage of fraud TRANSFER\\'s: {} %'.format((len(fraud_transfer)/len(transaction_details_dataset)) * 100))\n",
    "print('Percentage of fraud CASH_OUT\\'s: {} %'.format((len(fraud_transfer)/len(transaction_details_dataset)) * 100))"
   ]
  },
  {
   "cell_type": "code",
   "execution_count": null,
   "id": "108344fa",
   "metadata": {},
   "outputs": [],
   "source": [
    "print('Types of transactions which are \\'isFlaggedFraud\\': {}'.format(list(transaction_details_dataset.loc[transaction_details_dataset.isFlaggedFraud == 1].type.drop_duplicates().values)))\n",
    "\n",
    "transfer = transaction_details_dataset.loc[(transaction_details_dataset.type == 'TRANSFER')]\n",
    "is_flagged_fraud = transaction_details_dataset.loc[(transaction_details_dataset.isFlaggedFraud == 1)]\n",
    "not_flagged_fraud = transaction_details_dataset.loc[(transaction_details_dataset.isFlaggedFraud == 0)]\n",
    "\n",
    "print('Minimum amount of transaction when \\'isFlaggedFraud\\' is set: {}'.format(is_flagged_fraud.amount.min()))\n",
    "print('Maximum amount of transaction in a TRANSFER when \\'isFlaggedFraud\\' is not set: {}'.format(transfer.loc[(transfer.isFlaggedFraud == 0)].amount.max()))"
   ]
  },
  {
   "cell_type": "code",
   "execution_count": null,
   "id": "3cb8e0a9",
   "metadata": {},
   "outputs": [],
   "source": [
    "print('Number of TRANSFER\\'s where isFlaggedFraud = 1 yet oldbalanceDest = 0, & newbalanceDest = 0: {}'.format(len(transaction_details_dataset.loc[(transaction_details_dataset.isFlaggedFraud == 1) & (transaction_details_dataset.newbalanceDest == 0) & (transaction_details_dataset.oldbalanceDest == 0)])))\n",
    "print('Number of TRANSFER\\'s where isFlaggedFraud = 0 yet oldbalanceDest = 0, & newbalanceDest = 0: {}'.format(len(transaction_details_dataset.loc[(transaction_details_dataset.isFlaggedFraud == 0) & (transaction_details_dataset.newbalanceDest == 0) & (transaction_details_dataset.oldbalanceDest == 0)])))"
   ]
  },
  {
   "cell_type": "code",
   "execution_count": null,
   "id": "75af7865",
   "metadata": {},
   "outputs": [],
   "source": [
    "print('Minimum value of newbalanceOrig when isFlaggedFraud = 0 where oldbalanceOrg = newbalanceOrig: {}'.format(transfer.loc[(transfer.isFlaggedFraud == 0) & (transfer.oldbalanceOrg == transfer.newbalanceOrig)].oldbalanceOrg.min()))\n",
    "print('Maximum value of newbalanceOrig when isFlaggedFraud = 0 where oldbalanceOrg = newbalanceOrig: {}'.format(transfer.loc[(transfer.isFlaggedFraud == 0) & (transfer.oldbalanceOrg == transfer.newbalanceOrig)].oldbalanceOrg.max()))\n",
    "print('Minimum value of oldbalanceOrg when isFlaggedFraud = 1: {}'.format(is_flagged_fraud.oldbalanceOrg.min()))\n",
    "print('Maximum value of oldbalanceOrg when isFlaggedFraud = 1: {}'.format(is_flagged_fraud.oldbalanceOrg.max()))"
   ]
  },
  {
   "cell_type": "code",
   "execution_count": null,
   "id": "60addd4f",
   "metadata": {},
   "outputs": [],
   "source": [
    "print('Any originator of transaction having more than 1 flagged fraud transaction? {}'.format(is_flagged_fraud.nameOrig.isin(pd.concat([not_flagged_fraud.nameOrig, not_flagged_fraud.nameDest])).any()))\n",
    "print('Any destination for transaction flagged as fraud? {}'.format(is_flagged_fraud.nameDest.isin(not_flagged_fraud.nameOrig).any()))\n",
    "print('Number of destination accounts flagged fraud were already destination accounts before? {}'.format(sum(is_flagged_fraud.nameDest.isin(not_flagged_fraud.nameDest))))"
   ]
  },
  {
   "cell_type": "code",
   "execution_count": null,
   "id": "9b296fb5",
   "metadata": {},
   "outputs": [],
   "source": [
    "print('Any merchants among originator account? {}'.format(transaction_details_dataset.nameOrig.str.contains('M').any()))\n",
    "print('Are there any transactions having merchants as destination accounts other than \\'PAYMENT\\' type? {}'.format((transaction_details_dataset.loc[transaction_details_dataset.nameDest.str.contains('M')].type != 'PAYMENT').any()))\n",
    "print('Any merchants among originator who accounts for \\'CASH_IN\\' transactions? {}'.format(transaction_details_dataset.loc[transaction_details_dataset.type == 'CASH_IN'].nameOrig.str.contains('M').any()))\n",
    "print('Any merchants among originator who accounts for \\'CASH_OUT\\' transactions? {}'.format(transaction_details_dataset.loc[transaction_details_dataset.type == 'CASH_OUT'].nameOrig.str.contains('M').any()))"
   ]
  },
  {
   "cell_type": "code",
   "execution_count": null,
   "id": "aa3b417c",
   "metadata": {},
   "outputs": [],
   "source": [
    "not_fraud = transaction_details_dataset.loc[transaction_details_dataset.isFraud == 0]\n",
    "print('Fraud TRANSFER\"s where destination accounts are originator of \"CASH_OUT\":\\n {}'.format(fraud_transfer.loc[fraud_transfer.nameDest.isin(not_fraud.loc[not_fraud.type == 'CASH_OUT'].nameOrig.drop_duplicates())]))"
   ]
  },
  {
   "cell_type": "code",
   "execution_count": null,
   "id": "7a2919d9",
   "metadata": {},
   "outputs": [],
   "source": [
    "print('Fraud TRANSFER to \\'C1714931087\\' occurs at step [65] whereas genuine \\'CASH_OUT\\' from this account occured at step = {}'.format(not_fraud.loc[(not_fraud.type == 'CASH_OUT') & (not_fraud.nameOrig == 'C1714931087')].step.values))\n",
    "print('Fraud TRANSFER to \\'C423543548\\' occurs at step [486] whereas genuine \\'CASH_OUT\\' from this account occured at step = {}'.format(not_fraud.loc[(not_fraud.type == 'CASH_OUT') & (not_fraud.nameOrig == 'C423543548')].step.values))\n",
    "print('Fraud TRANSFER to \\'C1023330867\\' occurs at step [738] whereas genuine \\'CASH_OUT\\' from this account occured at step = {}'.format(not_fraud.loc[(not_fraud.type == 'CASH_OUT') & (not_fraud.nameOrig == 'C1023330867')].step.values))"
   ]
  },
  {
   "cell_type": "code",
   "execution_count": null,
   "id": "29f28c13",
   "metadata": {},
   "outputs": [],
   "source": [
    "figure, ax = plt.subplots(1, 1, figsize = (8, 6))\n",
    "transaction_details_dataset.type.value_counts().plot(kind = 'bar', title = 'Transaction Type', color ='red')"
   ]
  },
  {
   "cell_type": "code",
   "execution_count": null,
   "id": "a4556df6",
   "metadata": {},
   "outputs": [],
   "source": [
    "figure, ax = plt.subplots(1, 1, figsize = (8, 6))\n",
    "ax = transaction_details_dataset.groupby(['type', 'isFraud']).size().plot(kind = 'bar')\n",
    "ax.set_title('Number of actual fraud transaction per transaction type')\n",
    "ax.set_xlabel('Type, isFraud')\n",
    "ax.set_ylabel('Number of transactions')\n",
    "\n",
    "for x in ax.patches:\n",
    "    ax.annotate(str(format(int(x.get_height()))), (x.get_x(), x.get_height() * 1.01))"
   ]
  },
  {
   "cell_type": "code",
   "execution_count": null,
   "id": "cbe29101",
   "metadata": {},
   "outputs": [],
   "source": [
    "figure, ax = plt.subplots(1, 1, figsize = (8, 6))\n",
    "ax = transaction_details_dataset.groupby(['type', 'isFlaggedFraud']).size().plot(kind = 'bar')\n",
    "ax.set_title('Number of actual fraud transaction per transaction type')\n",
    "ax.set_xlabel('Type, isFlaggedFraud')\n",
    "ax.set_ylabel('Number of transactions')\n",
    "\n",
    "for x in ax.patches:\n",
    "    ax.annotate(str(format(int(x.get_height()))), (x.get_x(), x.get_height() * 1.01))"
   ]
  },
  {
   "cell_type": "code",
   "execution_count": null,
   "id": "acfe05a3",
   "metadata": {},
   "outputs": [],
   "source": [
    "figure, axis = plt.subplots(2, 2, figsize = (8, 8))\n",
    "\n",
    "figure_1 = sns.boxplot(x = 'isFlaggedFraud', y = 'amount', data = transfer, ax = axis[0][0])\n",
    "axis[0][0].set_yscale('log')\n",
    "figure_2 = sns.boxplot(x = 'isFlaggedFraud', y = 'oldbalanceDest', data = transfer, ax = axis[0][1])\n",
    "axis[0][1].set(ylim=(0, 0.5e8))\n",
    "figure_3 = sns.boxplot(x = 'isFlaggedFraud', y = 'oldbalanceOrg', data = transfer, ax = axis[1][0])\n",
    "axis[1][0].set(ylim=(0, 3e7))\n",
    "figure_4 = sns.regplot(x = 'oldbalanceOrg', y = 'amount', data = transfer.loc[(transaction_details_dataset.isFlaggedFraud == 1)], ax = axis[1][1])\n",
    "plt.show()"
   ]
  },
  {
   "cell_type": "markdown",
   "id": "a2b095ab",
   "metadata": {},
   "source": [
    "## Data Preprocessing"
   ]
  },
  {
   "cell_type": "markdown",
   "id": "a8c654d0",
   "metadata": {},
   "source": [
    "***'TRANSFER' OR 'CASH_OUT' Transactions***"
   ]
  },
  {
   "cell_type": "code",
   "execution_count": null,
   "id": "ccc3de99",
   "metadata": {},
   "outputs": [],
   "source": [
    "transfer_or_cash_out = transaction_details_dataset.loc[(transaction_details_dataset.type == 'TRANSFER') | (transaction_details_dataset.type == 'CASH_OUT')]\n",
    "\n",
    "print('We have a total of {} transactions that are either \\'TRANSFER\\' OR \\'CASH_OUT\\'.'.format(transfer_or_cash_out.shape[0]))"
   ]
  },
  {
   "cell_type": "markdown",
   "id": "c786b712",
   "metadata": {},
   "source": [
    "### Automated Library"
   ]
  },
  {
   "cell_type": "code",
   "execution_count": null,
   "id": "3863e6bb",
   "metadata": {
    "scrolled": true
   },
   "outputs": [],
   "source": [
    "automated_report = sweetviz.analyze(transfer_or_cash_out)\n",
    "automated_report.show_html('Report.html')"
   ]
  },
  {
   "cell_type": "code",
   "execution_count": null,
   "id": "682e370c",
   "metadata": {},
   "outputs": [],
   "source": [
    "dataset_visuals = dtale.show(transfer_or_cash_out)\n",
    "dataset_visuals.open_browser()"
   ]
  },
  {
   "cell_type": "markdown",
   "id": "e39219a4",
   "metadata": {},
   "source": [
    "**Cleaning Unwanted Columns**\n",
    "\n",
    "'nameDest', 'nameOrig', 'isFlaggedFraud': These columns are of no relevance for analytically domain of work, as it does not have any nominal data. Hence, we can ignore them."
   ]
  },
  {
   "cell_type": "code",
   "execution_count": null,
   "id": "f6c9f1a7",
   "metadata": {},
   "outputs": [],
   "source": [
    "transfer_or_cash_out = transfer_or_cash_out.drop(['nameDest', 'nameOrig', 'isFlaggedFraud'], axis = 1)"
   ]
  },
  {
   "cell_type": "code",
   "execution_count": null,
   "id": "5982fc33",
   "metadata": {
    "scrolled": true
   },
   "outputs": [],
   "source": [
    "fraud_transfer_or_cash_out = transfer_or_cash_out.loc[transfer_or_cash_out['isFraud'] == 1]\n",
    "not_fraud_transfer_or_cash_out = transfer_or_cash_out.loc[transfer_or_cash_out['isFraud'] == 0]\n",
    "\n",
    "print('Fraction of fraud transactions with \\'oldbalanceDest\\' = \\'newbalanceDest\\' after having a non-zero transaction: {}'.format(len(fraud_transfer_or_cash_out.loc[(fraud_transfer_or_cash_out.oldbalanceDest == 0) & (fraud_transfer_or_cash_out.newbalanceDest == 0) & (fraud_transfer_or_cash_out.amount)]) / len(fraud_transfer_or_cash_out)))"
   ]
  },
  {
   "cell_type": "markdown",
   "id": "0e38006d",
   "metadata": {},
   "source": [
    "***Computation:***\n",
    "1. Imputing null values using Mean imputation.\n",
    "2. Conversion of 'categorical data' to 'numerical data' using LabelEncoder.\n",
    "3. DataFrameMapper is used to map the given attribute."
   ]
  },
  {
   "cell_type": "code",
   "execution_count": null,
   "id": "3c751c49",
   "metadata": {},
   "outputs": [],
   "source": [
    "numerical_features = transfer_or_cash_out.select_dtypes(include = ['int32', 'int64', 'float32', 'float64']).columns\n",
    "numerical_features"
   ]
  },
  {
   "cell_type": "code",
   "execution_count": null,
   "id": "a14731b4",
   "metadata": {},
   "outputs": [],
   "source": [
    "categorical_features = transfer_or_cash_out.select_dtypes(include = ['object']).columns\n",
    "categorical_features"
   ]
  },
  {
   "cell_type": "code",
   "execution_count": null,
   "id": "f587860d",
   "metadata": {},
   "outputs": [],
   "source": [
    "numerical_pipeline = Pipeline([('impute', SimpleImputer(strategy = 'mean'))])\n",
    "categorical_pipeline = Pipeline([('label', DataFrameMapper([(categorical_features, LabelEncoder())]))])\n",
    "scale_pipeline = Pipeline([('scale', MinMaxScaler())])"
   ]
  },
  {
   "cell_type": "code",
   "execution_count": null,
   "id": "f9c58e84",
   "metadata": {},
   "outputs": [],
   "source": [
    "preprocess_pipeline = ColumnTransformer([('category', categorical_pipeline, categorical_features), \n",
    "                                         ('numerical', numerical_pipeline, numerical_features)],\n",
    "                                        remainder = 'passthrough')\n",
    "preprocess_fit = preprocess_pipeline.fit(transfer_or_cash_out)\n",
    "preprocess_fit"
   ]
  },
  {
   "cell_type": "code",
   "execution_count": null,
   "id": "d0408a59",
   "metadata": {},
   "outputs": [],
   "source": [
    "preprocess_transform = preprocess_fit.transform(transfer_or_cash_out)\n",
    "preprocess_transform"
   ]
  },
  {
   "cell_type": "code",
   "execution_count": null,
   "id": "19968c8d",
   "metadata": {
    "scrolled": true
   },
   "outputs": [],
   "source": [
    "preprocess_2 = pd.DataFrame(preprocess_transform, columns = [transfer_or_cash_out])\n",
    "preprocess_2"
   ]
  },
  {
   "cell_type": "markdown",
   "id": "2c626a18",
   "metadata": {},
   "source": [
    "## Data Visualization"
   ]
  },
  {
   "cell_type": "code",
   "execution_count": null,
   "id": "4813ffe7",
   "metadata": {},
   "outputs": [],
   "source": [
    "def correlation_plot(dataframe, labels):\n",
    "    figure, axis = plt.subplots(1, 1, figsize = (8, 8))\n",
    "    cmap = cm.get_cmap('inferno')\n",
    "    cax = axis.imshow(dataframe.corr(), cmap = cmap)\n",
    "    plt.title('Correlation HeatMap')\n",
    "    axis.set_xticklabels(labels, fontsize = 12, rotation = 60)\n",
    "    axis.set_yticklabels(labels, fontsize = 12)\n",
    "    figure.colorbar(cax)\n",
    "    plt.show()\n",
    "    \n",
    "correlation_plot_labels = preprocess_2.columns.tolist()\n",
    "\n",
    "for i in range(len(correlation_plot_labels)):\n",
    "    correlation_plot_labels[i] = correlation_plot_labels[i][0]\n",
    "    \n",
    "correlation_plot(preprocess_2, correlation_plot_labels)"
   ]
  },
  {
   "cell_type": "code",
   "execution_count": null,
   "id": "d3dd499d",
   "metadata": {},
   "outputs": [],
   "source": [
    "sns.heatmap(preprocess_2.corr())"
   ]
  },
  {
   "cell_type": "code",
   "execution_count": null,
   "id": "f8296573",
   "metadata": {},
   "outputs": [],
   "source": [
    "transaction_type_plot = transfer_or_cash_out.type.value_counts().plot(kind = 'bar', title = 'Transaction Type', figsize = (8, 6))\n",
    "\n",
    "for patch in transaction_type_plot.patches:\n",
    "    transaction_type_plot.annotate(str(format(int(patch.get_height()))), (patch.get_x(), patch.get_height() * 1.01))"
   ]
  },
  {
   "cell_type": "code",
   "execution_count": null,
   "id": "80fec9f9",
   "metadata": {},
   "outputs": [],
   "source": [
    "fraud_transaction_plot = pd.value_counts(transfer_or_cash_out['isFraud']).plot(kind = 'bar', title = 'Fraud Transaction', figsize = (8, 6))\n",
    "\n",
    "for patch in fraud_transaction_plot.patches:\n",
    "    fraud_transaction_plot.annotate(str(format(int(patch.get_height()))), (patch.get_x(), patch.get_height() * 1.01))"
   ]
  },
  {
   "cell_type": "markdown",
   "id": "70936763",
   "metadata": {},
   "source": [
    "Data visualized above have quite skewed numerical variables. Therefore scaling the data to skew"
   ]
  },
  {
   "cell_type": "code",
   "execution_count": null,
   "id": "6bdbef9f",
   "metadata": {},
   "outputs": [],
   "source": [
    "transfer_or_cash_out['amount_boxcox'] = preprocessing.scale(boxcox(transfer_or_cash_out['amount'] + 1)[0])\n",
    "transfer_or_cash_out['amount_oldbalanceOrg'] = preprocessing.scale(boxcox(transfer_or_cash_out['oldbalanceOrg'] + 1)[0])\n",
    "transfer_or_cash_out['amount_newbalanceOrig'] = preprocessing.scale(boxcox(transfer_or_cash_out['newbalanceOrig'] + 1)[0])\n",
    "transfer_or_cash_out['amount_oldbalanceDest'] = preprocessing.scale(boxcox(transfer_or_cash_out['oldbalanceDest'] + 1)[0])\n",
    "transfer_or_cash_out['amount_newbalanceDest'] = preprocessing.scale(boxcox(transfer_or_cash_out['newbalanceDest'] + 1)[0])"
   ]
  },
  {
   "cell_type": "code",
   "execution_count": null,
   "id": "ca35b4df",
   "metadata": {},
   "outputs": [],
   "source": [
    "figure, axis = plt.subplots(1, 3, figsize = (12, 5))\n",
    "\n",
    "axis[0].hist(transfer_or_cash_out['amount'])\n",
    "axis[0].set_xlabel('Transaction Amount')\n",
    "axis[0].set_title('Transaction Amount')\n",
    "axis[0].text(0.3e8, 2750000, 'Skewness: {:.2f}'.format(skew(transfer_or_cash_out['amount'])))\n",
    "\n",
    "axis[1].hist(np.sqrt(transfer_or_cash_out['amount']))\n",
    "axis[1].set_xlabel('Square Root of Transaction Amount')\n",
    "axis[1].set_title('SQRT on Transaction Amount')\n",
    "axis[1].text(3000, 2650000, 'Skewness: {:.2f}'.format(skew(np.sqrt(transfer_or_cash_out['amount']))))\n",
    "\n",
    "axis[2].hist(transfer_or_cash_out['amount_boxcox'])\n",
    "axis[2].set_xlabel('Boxcox of Transaction Amount')\n",
    "axis[2].set_title('Boxcox on Transaction Amount')\n",
    "axis[2].text(-2, 1625000, 'Skewness: {:.2f}'.format(skew(transfer_or_cash_out['amount_boxcox'])))\n",
    "\n",
    "plt.show()"
   ]
  },
  {
   "cell_type": "code",
   "execution_count": null,
   "id": "347ad326",
   "metadata": {},
   "outputs": [],
   "source": [
    "figure, axis = plt.subplots(1, 3, figsize = (12, 5))\n",
    "\n",
    "axis[0].hist(transfer_or_cash_out['oldbalanceOrg'])\n",
    "axis[0].set_xlabel('Original Old Balance')\n",
    "axis[0].set_title('Original Old Balance')\n",
    "axis[0].text(0.2e8, 2650000, 'Skewness: {:.2f}'.format(skew(transfer_or_cash_out['oldbalanceOrg'])))\n",
    "\n",
    "axis[1].hist(np.sqrt(transfer_or_cash_out['oldbalanceOrg']))\n",
    "axis[1].set_xlabel('Square Root of Original Old Balance')\n",
    "axis[1].set_title('SQRT on Original Old Balance')\n",
    "axis[1].text(2500, 2650000, 'Skewness: {:.2f}'.format(skew(np.sqrt(transfer_or_cash_out['oldbalanceOrg']))))\n",
    "\n",
    "axis[2].hist(transfer_or_cash_out['amount_oldbalanceOrg'])\n",
    "axis[2].set_xlabel('Boxcox of Original Old Balance')\n",
    "axis[2].set_title('Boxcox on Original Old Balance')\n",
    "axis[2].text(0, 1275000, 'Skewness: {:.2f}'.format(skew(transfer_or_cash_out['amount_oldbalanceOrg'])))\n",
    "\n",
    "plt.show()"
   ]
  },
  {
   "cell_type": "code",
   "execution_count": null,
   "id": "1c69b711",
   "metadata": {},
   "outputs": [],
   "source": [
    "figure, axis = plt.subplots(1, 3, figsize = (12, 5))\n",
    "\n",
    "axis[0].hist(transfer_or_cash_out['newbalanceOrig'])\n",
    "axis[0].set_xlabel('Original New Balance')\n",
    "axis[0].set_title('Original New Balance')\n",
    "axis[0].text(0.1e8, 2650000, 'Skewness: {:.2f}'.format(skew(transfer_or_cash_out['newbalanceOrig'])))\n",
    "\n",
    "axis[1].hist(np.sqrt(transfer_or_cash_out['newbalanceOrig']))\n",
    "axis[1].set_xlabel('Square Root of Original New Balance')\n",
    "axis[1].set_title('SQRT on Original New Balance')\n",
    "axis[1].text(2250, 2600000, 'Skewness: {:.2f}'.format(skew(np.sqrt(transfer_or_cash_out['newbalanceOrig']))))\n",
    "\n",
    "axis[2].hist(transfer_or_cash_out['amount_newbalanceOrig'])\n",
    "axis[2].set_xlabel('Boxcox of Original New Balance')\n",
    "axis[2].set_title('Boxcox on Original New Balance')\n",
    "axis[2].text(0.75, 2300000, 'Skewness: {:.2f}'.format(skew(transfer_or_cash_out['amount_newbalanceOrig'])))\n",
    "\n",
    "plt.show()"
   ]
  },
  {
   "cell_type": "code",
   "execution_count": null,
   "id": "89d6cd2a",
   "metadata": {},
   "outputs": [],
   "source": [
    "figure, axis = plt.subplots(1, 3, figsize = (12, 5))\n",
    "\n",
    "axis[0].hist(transfer_or_cash_out['oldbalanceDest'])\n",
    "axis[0].set_xlabel('Destination Old Balance')\n",
    "axis[0].set_title('Destination Old Balance')\n",
    "axis[0].text(0.1e9, 2700000, 'Skewness: {:.2f}'.format(skew(transfer_or_cash_out['oldbalanceDest'])))\n",
    "\n",
    "axis[1].hist(np.sqrt(transfer_or_cash_out['oldbalanceDest']))\n",
    "axis[1].set_xlabel('Square Root of Destination Old Balance')\n",
    "axis[1].set_title('SQRT on Destination Old Balance')\n",
    "axis[1].text(6000, 2350000, 'Skewness: {:.2f}'.format(skew(np.sqrt(transfer_or_cash_out['oldbalanceDest']))))\n",
    "\n",
    "axis[2].hist(transfer_or_cash_out['amount_oldbalanceDest'])\n",
    "axis[2].set_xlabel('Boxcox of Destination Old Balance')\n",
    "axis[2].set_title('Boxcox on Destination Old Balance')\n",
    "axis[2].text(0.75, 1000000, 'Skewness: {:.2f}'.format(skew(transfer_or_cash_out['amount_oldbalanceDest'])))\n",
    "\n",
    "plt.show()"
   ]
  },
  {
   "cell_type": "code",
   "execution_count": null,
   "id": "ac56a40b",
   "metadata": {},
   "outputs": [],
   "source": [
    "figure, axis = plt.subplots(1, 3, figsize = (12, 5))\n",
    "\n",
    "axis[0].hist(transfer_or_cash_out['newbalanceDest'])\n",
    "axis[0].set_xlabel('Destination New Balance')\n",
    "axis[0].set_title('Destination New Balance')\n",
    "axis[0].text(0.1e9, 2700000, 'Skewness: {:.2f}'.format(skew(transfer_or_cash_out['newbalanceDest'])))\n",
    "\n",
    "axis[1].hist(np.sqrt(transfer_or_cash_out['newbalanceDest']))\n",
    "axis[1].set_xlabel('Square Root of Destination New Balance')\n",
    "axis[1].set_title('SQRT on Destination New Balance')\n",
    "axis[1].text(2250, 2650000, 'Skewness: {:.2f}'.format(skew(np.sqrt(transfer_or_cash_out['newbalanceDest']))))\n",
    "\n",
    "axis[2].hist(transfer_or_cash_out['amount_newbalanceDest'])\n",
    "axis[2].set_xlabel('Boxcox of Destination New Balance')\n",
    "axis[2].set_title('Boxcox on Destination New Balance')\n",
    "axis[2].text(0, 1200000, 'Skewness: {:.2f}'.format(skew(transfer_or_cash_out['amount_newbalanceDest'])))\n",
    "\n",
    "plt.show()"
   ]
  },
  {
   "cell_type": "code",
   "execution_count": null,
   "id": "28c0713b",
   "metadata": {},
   "outputs": [],
   "source": [
    "print('Percentage of fraud transactions of the filtered dataset: {}%'.format((len(transfer_or_cash_out[transfer_or_cash_out['isFraud'] == 1]) / len(transfer_or_cash_out)) * 100))"
   ]
  },
  {
   "cell_type": "markdown",
   "id": "c620a12b",
   "metadata": {},
   "source": [
    "As we can observe, there is approximately only 0.3% of the actual fraud data and the remaining unrelevant data has been filtered out.\n",
    "\n",
    "Now, only boxcox data transformation will be used for the model prediction."
   ]
  },
  {
   "cell_type": "code",
   "execution_count": null,
   "id": "2d7ea1f4",
   "metadata": {},
   "outputs": [],
   "source": [
    "transfer_or_cash_out.drop(['type', 'amount', 'oldbalanceOrg', 'newbalanceOrig', 'oldbalanceDest', 'newbalanceDest'], axis = 1, inplace = True)"
   ]
  },
  {
   "cell_type": "code",
   "execution_count": null,
   "id": "d9a0ead0",
   "metadata": {
    "scrolled": true
   },
   "outputs": [],
   "source": [
    "transfer_or_cash_out.reset_index(drop = True, inplace = True)\n",
    "\n",
    "fraud_record_count = len(transfer_or_cash_out[transfer_or_cash_out['isFraud'] == 1])\n",
    "\n",
    "fraud_indices = transfer_or_cash_out[transfer_or_cash_out['isFraud'] == 1].index.values\n",
    "normal_indices = transfer_or_cash_out[transfer_or_cash_out['isFraud'] == 0].index\n",
    "\n",
    "random_normal_indices = np.array(np.random.choice(normal_indices, fraud_record_count, replace = False))\n",
    "\n",
    "combine_sample_indices = np.concatenate([fraud_indices, random_normal_indices])\n",
    "combine_sample_data = transfer_or_cash_out.iloc[combine_sample_indices, :]\n",
    "\n",
    "not_fraud_undersample = combine_sample_data.loc[:, combine_sample_data.columns != 'isFraud']\n",
    "is_fraud_undersample = combine_sample_data.loc[:, combine_sample_data.columns == 'isFraud']\n",
    "\n",
    "print('Percentage of normal transactions: ', len(combine_sample_data[combine_sample_data.isFraud == 0]) / len(combine_sample_data))\n",
    "print('Percentage of fraud transactions: ', len(combine_sample_data[combine_sample_data.isFraud == 1]) / len(combine_sample_data))\n",
    "print('Total count of sample transactions data: ', len(combine_sample_data))"
   ]
  },
  {
   "cell_type": "code",
   "execution_count": null,
   "id": "4d9d96b6",
   "metadata": {},
   "outputs": [],
   "source": []
  }
 ],
 "metadata": {
  "kernelspec": {
   "display_name": "Python 3 (ipykernel)",
   "language": "python",
   "name": "python3"
  },
  "language_info": {
   "codemirror_mode": {
    "name": "ipython",
    "version": 3
   },
   "file_extension": ".py",
   "mimetype": "text/x-python",
   "name": "python",
   "nbconvert_exporter": "python",
   "pygments_lexer": "ipython3",
   "version": "3.10.5"
  }
 },
 "nbformat": 4,
 "nbformat_minor": 5
}
